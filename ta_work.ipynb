{
 "cells": [
  {
   "cell_type": "code",
   "execution_count": 1,
   "metadata": {},
   "outputs": [],
   "source": [
    "## execute master script\n",
    "exec(open(\"./ta_master.py\").read())"
   ]
  },
  {
   "cell_type": "code",
   "execution_count": 2,
   "metadata": {},
   "outputs": [
    {
     "name": "stdout",
     "output_type": "stream",
     "text": [
      "Display current account name, switch to others, or create new one.\n",
      "\n",
      "    Optional arguments:\n",
      "    acct_name -- name of account (string) to switch to (if name exists)\n",
      "                                    or to create (if name does not exit)\n",
      "\n",
      "    Note:\n",
      "    Return list of existing accounts with active/current\n",
      "                                    one in the first position.\n",
      "    \n"
     ]
    }
   ],
   "source": [
    "## overview of methods that can be used\n",
    "# METHODS THAT DISPLAY THE TRADING ACCOUNT:\n",
    "#    rel_values(**kwargs)\n",
    "#    all_values(**kwargs)\n",
    "#    shr_values(**kwargs)\n",
    "# ACCOUNT MODIFICATION METHODS:\n",
    "#    account_activity(increment,**kwargs)\n",
    "#    buy(name,value,fee,**kwargs)\n",
    "#    update(**values)\n",
    "#    dividend(name,amount,**kwargs)\n",
    "#    sell(name,amount,**kwargs)\n",
    "# OTHER METHODS ON THE TRADING ACCOUNT DATAFRAME:\n",
    "#    all_shares()\n",
    "#    active_shares()\n",
    "#    delete_last_row()\n",
    "#    total_value()\n",
    "#    backup()\n",
    "#    account_name(*acct_name):\n",
    "# TOOLS:\n",
    "#    bond_evaluation(coupon,years_to_maturity)\n",
    "#    simulate_p(mu,sigma,begweek=12,endweek=52,**kwargs):\n",
    "print(account_name.__doc__)"
   ]
  },
  {
   "cell_type": "code",
   "execution_count": 3,
   "metadata": {},
   "outputs": [],
   "source": [
    "## work on the ta logbook\n"
   ]
  }
 ],
 "metadata": {
  "kernelspec": {
   "display_name": "Python 3",
   "language": "python",
   "name": "python3"
  },
  "language_info": {
   "codemirror_mode": {
    "name": "ipython",
    "version": 3
   },
   "file_extension": ".py",
   "mimetype": "text/x-python",
   "name": "python",
   "nbconvert_exporter": "python",
   "pygments_lexer": "ipython3",
   "version": "3.6.4"
  }
 },
 "nbformat": 4,
 "nbformat_minor": 2
}
