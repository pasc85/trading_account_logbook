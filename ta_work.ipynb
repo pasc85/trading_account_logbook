{
 "cells": [
  {
   "cell_type": "code",
   "execution_count": 5,
   "metadata": {},
   "outputs": [],
   "source": [
    "# execute master script\n",
    "exec(open(\"./ta_master.py\").read())"
   ]
  },
  {
   "cell_type": "code",
   "execution_count": 6,
   "metadata": {},
   "outputs": [
    {
     "name": "stdout",
     "output_type": "stream",
     "text": [
      "Return table linking overall return rates to bond prices.\n",
      "\n",
      "    Arguments:\n",
      "    coupon -- annual yield of the bond in percent\n",
      "    years_to_maturity -- number of years to maturity\n",
      "    \n"
     ]
    }
   ],
   "source": [
    "# METHODS THAT DISPLAY THE TRADING ACCOUNT:\n",
    "#    rel_values(**kwargs)\n",
    "#    all_values(**kwargs)\n",
    "#    shr_values(**kwargs)\n",
    "# ACCOUNT MODIFICATION METHODS:\n",
    "#    account_activity(increment,**kwargs)\n",
    "#    buy(name,value,fee,**kwargs)\n",
    "#    update(**values)\n",
    "#    dividend(name,amount,**kwargs)\n",
    "#    sell(name,amount,**kwargs)\n",
    "# OTHER METHODS ON THE TRADING ACCOUNT DATAFRAME:\n",
    "#    all_shares()\n",
    "#    active_shares()\n",
    "#    delete_last_row()\n",
    "#    total_value()\n",
    "#    backup()\n",
    "# OTHER TOOLS:\n",
    "#    bond_evaluation(coupon,years_to_maturity)\n",
    "print(bond_evaluation.__doc__)"
   ]
  },
  {
   "cell_type": "code",
   "execution_count": null,
   "metadata": {},
   "outputs": [],
   "source": []
  }
 ],
 "metadata": {
  "kernelspec": {
   "display_name": "Python 3",
   "language": "python",
   "name": "python3"
  },
  "language_info": {
   "codemirror_mode": {
    "name": "ipython",
    "version": 3
   },
   "file_extension": ".py",
   "mimetype": "text/x-python",
   "name": "python",
   "nbconvert_exporter": "python",
   "pygments_lexer": "ipython3",
   "version": "3.6.4"
  }
 },
 "nbformat": 4,
 "nbformat_minor": 2
}
