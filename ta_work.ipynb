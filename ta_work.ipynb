{
 "cells": [
  {
   "cell_type": "code",
   "execution_count": 1,
   "metadata": {},
   "outputs": [
    {
     "name": "stdout",
     "output_type": "stream",
     "text": [
      "No file with account names found. Created new one\n",
      "with default account name, ta.\n",
      "Warning: The account with the above name has not been\n",
      "initiated yet. Initiate using the method account_activity,\n",
      "passing the opening deposit amount as an argument. Calling\n",
      "any other methods before doing that will cause errors.\n"
     ]
    }
   ],
   "source": [
    "# execute master script\n",
    "exec(open(\"./ta_master.py\").read())"
   ]
  },
  {
   "cell_type": "code",
   "execution_count": 3,
   "metadata": {},
   "outputs": [
    {
     "name": "stdout",
     "output_type": "stream",
     "text": [
      "Display current account name, switch to others, create new one.\n",
      "\n",
      "    Optional arguments:\n",
      "    acct_name -- name of account (string) to switch to (if name exists)\n",
      "                                    or to create (if name does not exits).\n",
      "\n",
      "    Note:\n",
      "    Return list of existing accounts with active/current\n",
      "                                    one in the first position.\n",
      "    \n"
     ]
    }
   ],
   "source": [
    "# METHODS THAT DISPLAY THE TRADING ACCOUNT:\n",
    "#    rel_values(**kwargs)\n",
    "#    all_values(**kwargs)\n",
    "#    shr_values(**kwargs)\n",
    "# ACCOUNT MODIFICATION METHODS:\n",
    "#    account_activity(increment,**kwargs)\n",
    "#    buy(name,value,fee,**kwargs)\n",
    "#    update(**values)\n",
    "#    dividend(name,amount,**kwargs)\n",
    "#    sell(name,amount,**kwargs)\n",
    "# OTHER METHODS ON THE TRADING ACCOUNT DATAFRAME:\n",
    "#    all_shares()\n",
    "#    active_shares()\n",
    "#    delete_last_row()\n",
    "#    total_value()\n",
    "#    backup()\n",
    "#    account_name(*acct_name):\n",
    "# TOOLS NOT RELATED TO THE ACCOUNT DATAFRAME:\n",
    "#    bond_evaluation(coupon,years_to_maturity)\n",
    "print(account_name.__doc__)"
   ]
  },
  {
   "cell_type": "code",
   "execution_count": null,
   "metadata": {},
   "outputs": [],
   "source": []
  }
 ],
 "metadata": {
  "kernelspec": {
   "display_name": "Python 3",
   "language": "python",
   "name": "python3"
  },
  "language_info": {
   "codemirror_mode": {
    "name": "ipython",
    "version": 3
   },
   "file_extension": ".py",
   "mimetype": "text/x-python",
   "name": "python",
   "nbconvert_exporter": "python",
   "pygments_lexer": "ipython3",
   "version": "3.6.4"
  }
 },
 "nbformat": 4,
 "nbformat_minor": 2
}
