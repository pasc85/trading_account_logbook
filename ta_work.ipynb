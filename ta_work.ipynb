{
 "cells": [
  {
   "cell_type": "code",
   "execution_count": null,
   "metadata": {
    "ExecuteTime": {
     "end_time": "2019-01-30T23:46:44.711701Z",
     "start_time": "2019-01-30T23:46:40.870896Z"
    }
   },
   "outputs": [],
   "source": [
    "# execute master script\n",
    "master_file = open(\"./ta_master.py\")\n",
    "exec(master_file.read())\n",
    "master_file.close()"
   ]
  },
  {
   "cell_type": "code",
   "execution_count": null,
   "metadata": {
    "ExecuteTime": {
     "end_time": "2019-01-30T23:46:44.729408Z",
     "start_time": "2019-01-30T23:46:44.717065Z"
    }
   },
   "outputs": [],
   "source": [
    "# overview of methods that can be used\n",
    "# METHODS THAT DISPLAY THE TRADING ACCOUNT:\n",
    "#    rel_values(**kwargs)\n",
    "#    all_values(**kwargs)\n",
    "#    shr_values(**kwargs)\n",
    "# ACCOUNT MODIFICATION METHODS:\n",
    "#    account_activity(increment, **kwargs)\n",
    "#    buy(name, value, fee, **kwargs)\n",
    "#    update(**values)\n",
    "#    dividend(name, amount, **kwargs)\n",
    "#    sell(name, amount, **kwargs)\n",
    "# OTHER METHODS ON THE TRADING ACCOUNT DATAFRAME:\n",
    "#    all_shares()\n",
    "#    active_shares()\n",
    "#    delete_last_row()\n",
    "#    total_value()\n",
    "#    backup()\n",
    "#    account_name(*acct_name)\n",
    "# TOOLS:\n",
    "#    bond_evaluation(coupon, years_to_maturity)\n",
    "#    simulate_p(mu, sigma, begweek=12, endweek=52, **kwargs)\n",
    "#    find_mu_sigma(data=[])\n",
    "#    check_watchlist()\n",
    "print(find_mu_sigma.__doc__)"
   ]
  },
  {
   "cell_type": "code",
   "execution_count": null,
   "metadata": {
    "ExecuteTime": {
     "end_time": "2019-01-30T23:46:57.988470Z",
     "start_time": "2019-01-30T23:46:54.403001Z"
    }
   },
   "outputs": [],
   "source": [
    "# work on the ta logbook\n"
   ]
  },
  {
   "cell_type": "code",
   "execution_count": null,
   "metadata": {},
   "outputs": [],
   "source": []
  }
 ],
 "metadata": {
  "kernelspec": {
   "display_name": "Python 3",
   "language": "python",
   "name": "python3"
  },
  "language_info": {
   "codemirror_mode": {
    "name": "ipython",
    "version": 3
   },
   "file_extension": ".py",
   "mimetype": "text/x-python",
   "name": "python",
   "nbconvert_exporter": "python",
   "pygments_lexer": "ipython3",
   "version": "3.6.4"
  },
  "varInspector": {
   "cols": {
    "lenName": 16,
    "lenType": 16,
    "lenVar": 40
   },
   "kernels_config": {
    "python": {
     "delete_cmd_postfix": "",
     "delete_cmd_prefix": "del ",
     "library": "var_list.py",
     "varRefreshCmd": "print(var_dic_list())"
    },
    "r": {
     "delete_cmd_postfix": ") ",
     "delete_cmd_prefix": "rm(",
     "library": "var_list.r",
     "varRefreshCmd": "cat(var_dic_list()) "
    }
   },
   "types_to_exclude": [
    "module",
    "function",
    "builtin_function_or_method",
    "instance",
    "_Feature"
   ],
   "window_display": false
  }
 },
 "nbformat": 4,
 "nbformat_minor": 2
}
