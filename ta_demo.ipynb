{
 "cells": [
  {
   "cell_type": "markdown",
   "metadata": {},
   "source": [
    "## Summary"
   ]
  },
  {
   "cell_type": "markdown",
   "metadata": {},
   "source": [
    "This package allows to keep track of activities, gains, and losses of a\n",
    "investment portfolio. Use commands to log purchase and sales of shares,\n",
    "dividends, and to update the value of the portfolio.\n",
    "\n",
    "The basic feature of the package is that it can produce tables containing\n",
    "the relative value of each share. This takes into account the purchase date,\n",
    "purchase price and fee, dividends that were paid, the current value of the\n",
    "shares, the sales fee, and the number of days for which the investment was\n",
    "held. A relative value of p means that the investment is equivalent to having\n",
    "put the purchase amount into a savings account with continously compounded\n",
    "interest of p percent per year.\n",
    "\n",
    "A number of additional tools are provided, e.g. a method that computes bond\n",
    "prices. The significance of p values can be understood by analysing historic\n",
    "data. The notebook <code>ta_work</code> can be used for working on the\n",
    "account -- it contains a list of all callable functions (for which the\n",
    "docstrings can be displayed)."
   ]
  },
  {
   "cell_type": "markdown",
   "metadata": {},
   "source": [
    "## Initialisation"
   ]
  },
  {
   "cell_type": "markdown",
   "metadata": {},
   "source": [
    "To demonstrate the trading account (TA) logbook package,\n",
    "we first execute the master file. This will load all necessary\n",
    "python packages and all the TA classes and methods."
   ]
  },
  {
   "cell_type": "code",
   "execution_count": null,
   "metadata": {
    "ExecuteTime": {
     "end_time": "2019-01-30T23:56:24.305790Z",
     "start_time": "2019-01-30T23:56:24.037446Z"
    }
   },
   "outputs": [],
   "source": [
    "# execute master script\n",
    "master_file = open(\"./ta_master.py\")\n",
    "exec(master_file.read())\n",
    "master_file.close()"
   ]
  },
  {
   "cell_type": "markdown",
   "metadata": {},
   "source": [
    "If no files containing TA data etc. are found, new ones will be\n",
    "initiated. Several TA logbooks can be kept in parallel. We can\n",
    "check which ones are present by running the following command."
   ]
  },
  {
   "cell_type": "code",
   "execution_count": null,
   "metadata": {
    "ExecuteTime": {
     "end_time": "2019-01-30T23:56:24.323650Z",
     "start_time": "2019-01-30T23:56:24.307374Z"
    }
   },
   "outputs": [],
   "source": [
    "account_name()"
   ]
  },
  {
   "cell_type": "markdown",
   "metadata": {},
   "source": [
    "If the working directory was clean, the produced list will only\n",
    "contain the default account <code>ta</code>. We can add a new one by\n",
    "passing its name to the function <code>account_name()</code>. We now create\n",
    "a demo account for this demonstration. If <code>demo</code> is already\n",
    "present, the command will simply switch to it."
   ]
  },
  {
   "cell_type": "code",
   "execution_count": null,
   "metadata": {
    "ExecuteTime": {
     "end_time": "2019-01-30T23:56:24.438624Z",
     "start_time": "2019-01-30T23:56:24.325142Z"
    }
   },
   "outputs": [],
   "source": [
    "account_name('demo')"
   ]
  },
  {
   "cell_type": "markdown",
   "metadata": {},
   "source": [
    "In this list of accounts, the first entry is always the active\n",
    "account. The functionalities of the TA package will be\n",
    "demonstrated in this notebook, but we can always have the\n",
    "docstrings displayed for further details, e.g.:"
   ]
  },
  {
   "cell_type": "code",
   "execution_count": null,
   "metadata": {
    "ExecuteTime": {
     "end_time": "2019-01-30T23:56:24.553986Z",
     "start_time": "2019-01-30T23:56:24.441142Z"
    }
   },
   "outputs": [],
   "source": [
    "print(account_name.__doc__)"
   ]
  },
  {
   "cell_type": "markdown",
   "metadata": {},
   "source": [
    "The callable methods are all listed in the <code>ta_work</code> notebook.\n",
    "The logbooks for each files are pandas dataframes, that are saved\n",
    "in the working directory. Once the software is initialised, we\n",
    "can simply run the commands described below to act on the active\n",
    "TA (e.g., use <code>ta_work</code>) for that. Before doing that, we\n",
    "reset the <code>demo</code> TA:"
   ]
  },
  {
   "cell_type": "code",
   "execution_count": null,
   "metadata": {
    "ExecuteTime": {
     "end_time": "2019-01-30T23:56:24.648437Z",
     "start_time": "2019-01-30T23:56:24.557409Z"
    }
   },
   "outputs": [],
   "source": [
    "if os.path.isfile('demo_save.p'):\n",
    "    os.remove('demo_save.p')"
   ]
  },
  {
   "cell_type": "markdown",
   "metadata": {},
   "source": [
    "## Logging TA Activities"
   ]
  },
  {
   "cell_type": "markdown",
   "metadata": {},
   "source": [
    "We first deposit 5000 in the account, then add and withdraw, and make a small adjustment."
   ]
  },
  {
   "cell_type": "code",
   "execution_count": null,
   "metadata": {
    "ExecuteTime": {
     "end_time": "2019-01-30T23:56:25.072043Z",
     "start_time": "2019-01-30T23:56:24.650818Z"
    }
   },
   "outputs": [],
   "source": [
    "account_activity(5000, date=pd.Timestamp(2017, 1, 1))\n",
    "account_activity(1000, date=pd.Timestamp(2017, 2, 1))\n",
    "account_activity(-500, date=pd.Timestamp(2017, 3, 1))\n",
    "account_activity(5, comment='Adjustment', date=pd.Timestamp(2017, 4, 1))"
   ]
  },
  {
   "cell_type": "markdown",
   "metadata": {},
   "source": [
    "A new TA file with the name <code>demo</code> with an opening deposit of 5000 was created. If <code>date</code> is not given, the current date will be used -- this is what one would do in practice (in this demo, dates are prescribed to demonstrate the changes in the account over a period of a few months). We can now display the account:"
   ]
  },
  {
   "cell_type": "code",
   "execution_count": null,
   "metadata": {
    "ExecuteTime": {
     "end_time": "2019-01-30T23:56:25.341237Z",
     "start_time": "2019-01-30T23:56:25.074407Z"
    }
   },
   "outputs": [],
   "source": [
    "all_values()"
   ]
  },
  {
   "cell_type": "markdown",
   "metadata": {},
   "source": [
    "The different display options will be discussed in the next section. Comments are set automaticall, but the default comments can be overwritten, cf. the docstring for <code>account_activity()</code>.  First, let us by some shares, namely 2000 worth of <code>Share1</code>, with an order fee of 10."
   ]
  },
  {
   "cell_type": "code",
   "execution_count": null,
   "metadata": {
    "ExecuteTime": {
     "end_time": "2019-01-30T23:56:25.376965Z",
     "start_time": "2019-01-30T23:56:25.343784Z"
    }
   },
   "outputs": [],
   "source": [
    "buy('Share1', 2000, 10, date=pd.Timestamp(2017, 5, 1))\n",
    "all_values()"
   ]
  },
  {
   "cell_type": "markdown",
   "metadata": {},
   "source": [
    "The value of the shares plus the order fee is automatically subtracted from the account balance. Before interpreting the displayed values, let us update the share values: suppose that after 1 month, the value of the share has increased by 50:"
   ]
  },
  {
   "cell_type": "code",
   "execution_count": null,
   "metadata": {
    "ExecuteTime": {
     "end_time": "2019-01-30T23:56:25.520303Z",
     "start_time": "2019-01-30T23:56:25.379597Z"
    }
   },
   "outputs": [],
   "source": [
    "update(Share1=2050, date=pd.Timestamp(2017, 6, 1))\n",
    "all_values()"
   ]
  },
  {
   "cell_type": "markdown",
   "metadata": {},
   "source": [
    "The first argument in parentheses is the share value. The second value is the total amount of dividends paid for this share -- 0 so far. The value in front of the parentheses, 0.1744, is the relative share value -- having this information in the TA logbook was the main motivation for writing this package. It gives the continously compounded interest rate necessary to make the same profit over the given time period:\n",
    "\n",
    "costs, on 05-01:  2010,\n",
    "\n",
    "payout, on 06-01:  2040   (the share value minus an estimated order fee of 10),\n",
    "\n",
    "and to turn 2010 into 2040 within one month, we would need a savings account with a continuously compounded interest rate of 17.44%:"
   ]
  },
  {
   "cell_type": "code",
   "execution_count": null,
   "metadata": {
    "ExecuteTime": {
     "end_time": "2019-01-30T23:56:25.670605Z",
     "start_time": "2019-01-30T23:56:25.522465Z"
    }
   },
   "outputs": [],
   "source": [
    "2010 * math.exp( float(31)/365 * 0.1744)"
   ]
  },
  {
   "cell_type": "markdown",
   "metadata": {},
   "source": [
    "Now, whether or not this is high enough to encourage us to sell the share is a different story -- it depends on the properties of the share, the market, and our expectations. Tools to gauge the significance of relative share values such as 0.1744 are included in the package and will be discussed later. Had there been any dividend payments for the share, then they would be taken into account for the relative value. Next, buy another share and update share values:"
   ]
  },
  {
   "cell_type": "code",
   "execution_count": null,
   "metadata": {
    "ExecuteTime": {
     "end_time": "2019-01-30T23:56:25.870409Z",
     "start_time": "2019-01-30T23:56:25.672980Z"
    }
   },
   "outputs": [],
   "source": [
    "update(Share1=2050, date=pd.Timestamp(2017, 7, 1))\n",
    "buy('Share2', 1000, 10, date=pd.Timestamp(2017, 7, 1))\n",
    "update(Share1=2040, Share2=1020, date=pd.Timestamp(2017, 8, 1))\n",
    "all_values()"
   ]
  },
  {
   "cell_type": "markdown",
   "metadata": {},
   "source": [
    "For <code>update()</code>, the current share values are given as a dictionary with the share names as keys. If those values are not given, only the relative share values will be updated according to their time-dependancy. Note how the relative value of <code>Share1</code> has decreased in row 6 despite the share value remaining the same -- that's because more time has passed. Next we log a dividend payment and then sell one of the shares."
   ]
  },
  {
   "cell_type": "code",
   "execution_count": null,
   "metadata": {
    "ExecuteTime": {
     "end_time": "2019-01-30T23:56:25.974974Z",
     "start_time": "2019-01-30T23:56:25.872446Z"
    }
   },
   "outputs": [],
   "source": [
    "dividend('Share1', 200, date=pd.Timestamp(2017, 9, 1))\n",
    "update(Share1=2070, Share2=1050, date=pd.Timestamp(2017, 10, 1))\n",
    "all_values()"
   ]
  },
  {
   "cell_type": "code",
   "execution_count": null,
   "metadata": {
    "ExecuteTime": {
     "end_time": "2019-01-30T23:56:26.089724Z",
     "start_time": "2019-01-30T23:56:25.976626Z"
    }
   },
   "outputs": [],
   "source": [
    "sell('Share1',2065,date = pd.Timestamp(2017,10,1))\n",
    "update(Share2=1080,date = pd.Timestamp(2017,11,1))\n",
    "all_values()"
   ]
  },
  {
   "cell_type": "markdown",
   "metadata": {},
   "source": [
    "When selling, one would simply pass the total amount credited to the account as an argument. E.g., here, the share value of 2070 minus a 5 order fee. Upon selling, a message is produced stating the overall relative return (here, this return is a little bit better than the last relative value that was displayed, because the order fee for the sale turned out to be less than the 10 that are used for computing the relative values; the default sales fee can be set in the code). Note that the values for <code>Share1</code> are not displayed, because it is not an active share anymore, cf. next section. If a mistake is made handling the account, it can be undone as follows."
   ]
  },
  {
   "cell_type": "code",
   "execution_count": null,
   "metadata": {
    "ExecuteTime": {
     "end_time": "2019-01-30T23:56:26.208438Z",
     "start_time": "2019-01-30T23:56:26.092287Z"
    }
   },
   "outputs": [],
   "source": [
    "account_activity(-3, comment='Mistake', date=pd.Timestamp(2017, 11, 1))\n",
    "all_values()"
   ]
  },
  {
   "cell_type": "code",
   "execution_count": null,
   "metadata": {
    "ExecuteTime": {
     "end_time": "2019-01-30T23:56:26.862640Z",
     "start_time": "2019-01-30T23:56:26.210832Z"
    }
   },
   "outputs": [],
   "source": [
    "delete_last_row()\n",
    "all_values()"
   ]
  },
  {
   "cell_type": "markdown",
   "metadata": {},
   "source": [
    "Other corrections have to be done manually. The correction method <code>delete_last_row()</code> also calls the function <code>backup()</code>, which should be run from time to time. It saves the dataframe, both as a python object and as a spreadheet (with a timestamp). "
   ]
  },
  {
   "cell_type": "markdown",
   "metadata": {},
   "source": [
    "## Dislaying the TA Log"
   ]
  },
  {
   "cell_type": "markdown",
   "metadata": {},
   "source": [
    "In the displayed TA dataframes above, the column for <code>Share1</code> was dropped after it had been sold. It is still in the dataframe, of course, and it can be displayed as follows."
   ]
  },
  {
   "cell_type": "code",
   "execution_count": null,
   "metadata": {
    "ExecuteTime": {
     "end_time": "2019-01-30T23:56:26.897033Z",
     "start_time": "2019-01-30T23:56:26.864394Z"
    }
   },
   "outputs": [],
   "source": [
    "all_values(all_shares=True)"
   ]
  },
  {
   "cell_type": "markdown",
   "metadata": {},
   "source": [
    "Now, the entries in the columns with share values are strings. We can also generate dataframes with only the share values or the relative values as floats."
   ]
  },
  {
   "cell_type": "code",
   "execution_count": null,
   "metadata": {
    "ExecuteTime": {
     "end_time": "2019-01-30T23:56:27.010135Z",
     "start_time": "2019-01-30T23:56:26.899583Z"
    }
   },
   "outputs": [],
   "source": [
    "df = shr_values(all_shares=True)\n",
    "df"
   ]
  },
  {
   "cell_type": "markdown",
   "metadata": {},
   "source": [
    "Use <code>rel_values()</code> to produce a dataframe showing the relative share values. Note that the data was reindexed over time, so that it can be plotted."
   ]
  },
  {
   "cell_type": "code",
   "execution_count": null,
   "metadata": {
    "ExecuteTime": {
     "end_time": "2019-01-30T23:56:29.692704Z",
     "start_time": "2019-01-30T23:56:27.011828Z"
    }
   },
   "outputs": [],
   "source": [
    "df.plot()"
   ]
  },
  {
   "cell_type": "markdown",
   "metadata": {},
   "source": [
    "The three different display methods <code>all_values(), rel_values(), shr_values()</code> have different default formats, but this can be overwritten with keyword arguments, e.g. <code>shr_values(comments=True, date_as_index=False)</code>. Cf. the docstrings, e.g.:"
   ]
  },
  {
   "cell_type": "code",
   "execution_count": null,
   "metadata": {
    "ExecuteTime": {
     "end_time": "2019-01-30T23:56:29.702693Z",
     "start_time": "2019-01-30T23:56:29.696725Z"
    }
   },
   "outputs": [],
   "source": [
    "print(shr_values.__doc__)"
   ]
  },
  {
   "cell_type": "markdown",
   "metadata": {},
   "source": [
    "## Other Methods on the Dataframe"
   ]
  },
  {
   "cell_type": "markdown",
   "metadata": {},
   "source": [
    "List the shares in the portfolio using <code>active_shares()</code> or <code>all_shares()</code>. The methods <code>delete_last_row()</code> and <code>backup()</code> have already been discussed. Lastly, the total value of the portfolio:"
   ]
  },
  {
   "cell_type": "code",
   "execution_count": null,
   "metadata": {
    "ExecuteTime": {
     "end_time": "2019-01-30T23:56:29.868141Z",
     "start_time": "2019-01-30T23:56:29.704364Z"
    }
   },
   "outputs": [],
   "source": [
    "total_value()"
   ]
  },
  {
   "cell_type": "markdown",
   "metadata": {},
   "source": [
    "## Investment tools"
   ]
  },
  {
   "cell_type": "markdown",
   "metadata": {},
   "source": [
    "Suppose we are considering to buy a certain bond with a coupon (yield) of 4.3% and 15 years to maturity. Then we can use the following function to get an overview of bond prices and the corresponding overall return."
   ]
  },
  {
   "cell_type": "code",
   "execution_count": null,
   "metadata": {
    "ExecuteTime": {
     "end_time": "2019-01-30T23:56:30.003910Z",
     "start_time": "2019-01-30T23:56:29.870524Z"
    }
   },
   "outputs": [],
   "source": [
    "bond_evaluation(4.3, 15)"
   ]
  },
  {
   "cell_type": "markdown",
   "metadata": {},
   "source": [
    "This means that, if we want a return of at least 5%, we should not pay more than 92.73. This is an unrelated functionality -- the following methods are more geared towards the main features of the package described above.\n",
    "\n",
    "The following methods help gauge the significance of relative values p -- this helps to plan ahead and also to decide whether to hold or to sell a share. For example, if a share with very low volatility has a p-value double its average historical rate of return, then this is a exceptional event, and we should sell before the share price reverts to the mean. For more volatile shares, such a p-value is not as significant and we may consider holding.\n",
    "\n",
    "To do this, download weekly closing prices and save it in the working directory as <code>data.csv</code>. Then run the following to find the average weekly growth and its standard deviation from that mean (alternatively, a list of weekly closing prices can be passed)."
   ]
  },
  {
   "cell_type": "code",
   "execution_count": null,
   "metadata": {
    "ExecuteTime": {
     "end_time": "2019-01-30T23:56:30.393946Z",
     "start_time": "2019-01-30T23:56:30.006413Z"
    }
   },
   "outputs": [],
   "source": [
    "parameters = find_mu_sigma()\n",
    "parameters"
   ]
  },
  {
   "cell_type": "markdown",
   "metadata": {},
   "source": [
    "Next, we use this data for a Monte-Carlo simulation of shares with those parameter. This produces a distribution of maximum achieved relative rates."
   ]
  },
  {
   "cell_type": "code",
   "execution_count": null,
   "metadata": {
    "ExecuteTime": {
     "end_time": "2019-01-30T23:56:31.023753Z",
     "start_time": "2019-01-30T23:56:30.396223Z"
    }
   },
   "outputs": [],
   "source": [
    "simulate_p(parameters[0], parameters[1])"
   ]
  },
  {
   "cell_type": "markdown",
   "metadata": {},
   "source": [
    "The numbers in the second row state the weeks in which those p-values were achieved (only p values between certain weeks are considered, cf. the docstring for <code>simulate_p()</code>).\n",
    "\n",
    "Let's check that a lower volatility gives a more concentrated distribution of p-values."
   ]
  },
  {
   "cell_type": "code",
   "execution_count": null,
   "metadata": {
    "ExecuteTime": {
     "end_time": "2019-01-30T23:56:31.759908Z",
     "start_time": "2019-01-30T23:56:31.026429Z"
    }
   },
   "outputs": [],
   "source": [
    "simulate_p(parameters[0], 0.001*parameters[1], name='demoshare')"
   ]
  },
  {
   "cell_type": "markdown",
   "metadata": {},
   "source": [
    "This time, the name of the share was given as an keyword argument. In this case, the above data is written in a spreadsheet in the working directory. One can later consult this spreadsheet when making decisions.\n",
    "\n",
    "Lastly, as a sanity check, let us make sure that the median p found in the low-volatility simulation really corresponds to the average weekly rate found above:"
   ]
  },
  {
   "cell_type": "code",
   "execution_count": null,
   "metadata": {
    "ExecuteTime": {
     "end_time": "2019-01-30T23:56:31.768339Z",
     "start_time": "2019-01-30T23:56:31.764134Z"
    }
   },
   "outputs": [],
   "source": [
    "p_med = 0.2308 # = p_50 in the previous table\n",
    "               # change if you were running this on different data\n",
    "               # should approximately give parameters[0]\n",
    "math.exp(p_med)**(float(1)/52)"
   ]
  },
  {
   "cell_type": "markdown",
   "metadata": {},
   "source": [
    "## Web Scraping Functionalities"
   ]
  },
  {
   "cell_type": "markdown",
   "metadata": {},
   "source": [
    "Suppose there are stocks we'd like to buy, but they are currently overpriced. We can keep a list of stocks, <code>watchlist.txt</code>, with the Yahoo Finance handles and the stock prices at which we would buy. Calling the following function will check the watchlist (this is a separate script, so, it can be run from outside the whole ta package). This is very helpful once that list gets very long."
   ]
  },
  {
   "cell_type": "code",
   "execution_count": null,
   "metadata": {
    "ExecuteTime": {
     "end_time": "2019-01-30T23:57:16.881736Z",
     "start_time": "2019-01-30T23:57:13.629725Z"
    }
   },
   "outputs": [],
   "source": [
    "check_watchlist()"
   ]
  },
  {
   "cell_type": "markdown",
   "metadata": {},
   "source": [
    "NEXT, INTRODUCE AUTO-UPDATE"
   ]
  },
  {
   "cell_type": "code",
   "execution_count": null,
   "metadata": {},
   "outputs": [],
   "source": []
  },
  {
   "cell_type": "markdown",
   "metadata": {},
   "source": [
    "## Getting Started"
   ]
  },
  {
   "cell_type": "markdown",
   "metadata": {},
   "source": [
    "Now that you know how everything works, just run\n",
    "\n",
    "<code>account_name('your_account_name')</code>\n",
    "\n",
    "and start managing your account! This can be done in another notebook (e.g. <code>ta_work</code>) or from the python command line -- just execute <code>ta_master.py</code> first to load everything."
   ]
  },
  {
   "cell_type": "markdown",
   "metadata": {},
   "source": [
    "## To-Do"
   ]
  },
  {
   "cell_type": "markdown",
   "metadata": {},
   "source": [
    "Other functionalities that could be implemented: a method that scrapes the values of active shares off the internet, so that one does not have to look up and enter the share values for <code>update()</code> manually; similarly, an automation of finding the significance levels using scraped data.\n",
    "\n",
    "Please email me with any questions, concerns, suggestions."
   ]
  },
  {
   "cell_type": "code",
   "execution_count": null,
   "metadata": {},
   "outputs": [],
   "source": []
  }
 ],
 "metadata": {
  "kernelspec": {
   "display_name": "Python 3",
   "language": "python",
   "name": "python3"
  },
  "language_info": {
   "codemirror_mode": {
    "name": "ipython",
    "version": 3
   },
   "file_extension": ".py",
   "mimetype": "text/x-python",
   "name": "python",
   "nbconvert_exporter": "python",
   "pygments_lexer": "ipython3",
   "version": "3.6.4"
  },
  "varInspector": {
   "cols": {
    "lenName": 16,
    "lenType": 16,
    "lenVar": 40
   },
   "kernels_config": {
    "python": {
     "delete_cmd_postfix": "",
     "delete_cmd_prefix": "del ",
     "library": "var_list.py",
     "varRefreshCmd": "print(var_dic_list())"
    },
    "r": {
     "delete_cmd_postfix": ") ",
     "delete_cmd_prefix": "rm(",
     "library": "var_list.r",
     "varRefreshCmd": "cat(var_dic_list()) "
    }
   },
   "types_to_exclude": [
    "module",
    "function",
    "builtin_function_or_method",
    "instance",
    "_Feature"
   ],
   "window_display": false
  }
 },
 "nbformat": 4,
 "nbformat_minor": 2
}
