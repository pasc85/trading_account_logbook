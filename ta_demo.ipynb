{
 "cells": [
  {
   "cell_type": "markdown",
   "metadata": {},
   "source": [
    "## Summary"
   ]
  },
  {
   "cell_type": "markdown",
   "metadata": {},
   "source": [
    "This package allows to keep track of activities, gains, and losses of a\n",
    "investment portfolio. Use commands to log purchase and sales of shares,\n",
    "dividends, and to update the value of the portfolio.\n",
    "\n",
    "The basic feature of the package is that it can produce tables containing\n",
    "the relative value of each share. This takes into account the purchase date,\n",
    "purchase price and fee, dividends that were paid, the current value of the\n",
    "shares, the sales fee, and the number of days for which the investment was\n",
    "held. A relative value of p means that the investment is equivalent to having\n",
    "put the purchase amount into a savings account with continously compounded\n",
    "interest of p percent per year.\n",
    "\n",
    "A number of additional tools are provided, e.g. a method that computes bond\n",
    "prices. The significance of p values can be understood by analysing historic\n",
    "data. The notebook <code>ta_work</code> can be used for working on the\n",
    "account -- it contains a list of all callable functions (for which the\n",
    "docstrings can be displayed)."
   ]
  },
  {
   "cell_type": "markdown",
   "metadata": {},
   "source": [
    "## Initialisation"
   ]
  },
  {
   "cell_type": "markdown",
   "metadata": {},
   "source": [
    "To demonstrate the trading account (TA) logbook package,\n",
    "we first execute the master file. This will load all necessary\n",
    "python packages and all the TA classes and methods."
   ]
  },
  {
   "cell_type": "code",
   "execution_count": 1,
   "metadata": {
    "ExecuteTime": {
     "end_time": "2019-02-17T15:04:17.974051Z",
     "start_time": "2019-02-17T15:04:14.311118Z"
    }
   },
   "outputs": [],
   "source": [
    "# execute master script\n",
    "master_file = open(\"./ta_master.py\")\n",
    "exec(master_file.read())\n",
    "master_file.close()"
   ]
  },
  {
   "cell_type": "markdown",
   "metadata": {},
   "source": [
    "If no files containing TA data etc. are found, new ones will be\n",
    "initiated. Several TA logbooks can be kept in parallel. We can\n",
    "check which ones are present by running the following command."
   ]
  },
  {
   "cell_type": "code",
   "execution_count": 2,
   "metadata": {
    "ExecuteTime": {
     "end_time": "2019-02-17T15:04:18.000393Z",
     "start_time": "2019-02-17T15:04:17.977991Z"
    }
   },
   "outputs": [
    {
     "data": {
      "text/plain": [
       "['demo', 'ta']"
      ]
     },
     "execution_count": 2,
     "metadata": {},
     "output_type": "execute_result"
    }
   ],
   "source": [
    "account_name()"
   ]
  },
  {
   "cell_type": "markdown",
   "metadata": {},
   "source": [
    "If the working directory was clean, the produced list will only\n",
    "contain the default account <code>ta</code>. We can add a new one by\n",
    "passing its name to the function <code>account_name()</code>. We now create\n",
    "a demo account for this demonstration. If <code>demo</code> is already\n",
    "present, the command will simply switch to it."
   ]
  },
  {
   "cell_type": "code",
   "execution_count": 3,
   "metadata": {
    "ExecuteTime": {
     "end_time": "2019-02-17T15:04:18.338994Z",
     "start_time": "2019-02-17T15:04:18.002794Z"
    }
   },
   "outputs": [
    {
     "name": "stdout",
     "output_type": "stream",
     "text": [
      "Switched to existing account, demo.\n"
     ]
    },
    {
     "data": {
      "text/plain": [
       "['demo', 'ta']"
      ]
     },
     "execution_count": 3,
     "metadata": {},
     "output_type": "execute_result"
    }
   ],
   "source": [
    "account_name('demo')"
   ]
  },
  {
   "cell_type": "markdown",
   "metadata": {},
   "source": [
    "In this list of accounts, the first entry is always the active\n",
    "account. The functionalities of the TA package will be\n",
    "demonstrated in this notebook, but we can always have the\n",
    "docstrings displayed for further details, e.g.:"
   ]
  },
  {
   "cell_type": "code",
   "execution_count": 4,
   "metadata": {
    "ExecuteTime": {
     "end_time": "2019-02-17T15:04:18.458677Z",
     "start_time": "2019-02-17T15:04:18.342138Z"
    }
   },
   "outputs": [
    {
     "name": "stdout",
     "output_type": "stream",
     "text": [
      "Display current account name, switch to others, or create new one.\n",
      "\n",
      "    Optional arguments:\n",
      "    acct_name -- name of account (string) to switch to (if name exists)\n",
      "                                    or to create (if name does not exit)\n",
      "\n",
      "    Note:\n",
      "    Return list of existing accounts with active/current\n",
      "                                    one in the first position.\n",
      "    \n"
     ]
    }
   ],
   "source": [
    "print(account_name.__doc__)"
   ]
  },
  {
   "cell_type": "markdown",
   "metadata": {},
   "source": [
    "The callable methods are all listed in the <code>ta_work</code> notebook.\n",
    "The logbooks for each files are pandas dataframes, that are saved\n",
    "in the working directory. Once the software is initialised, we\n",
    "can simply run the commands described below to act on the active\n",
    "TA (e.g., use <code>ta_work</code>) for that. Before doing that, we\n",
    "reset the <code>demo</code> TA:"
   ]
  },
  {
   "cell_type": "code",
   "execution_count": 5,
   "metadata": {
    "ExecuteTime": {
     "end_time": "2019-02-17T15:04:18.585507Z",
     "start_time": "2019-02-17T15:04:18.461816Z"
    }
   },
   "outputs": [],
   "source": [
    "if os.path.isfile('demo_save.p'):\n",
    "    os.remove('demo_save.p')"
   ]
  },
  {
   "cell_type": "markdown",
   "metadata": {},
   "source": [
    "## Logging TA Activities"
   ]
  },
  {
   "cell_type": "markdown",
   "metadata": {},
   "source": [
    "We first deposit 5000 in the account, then add and withdraw, and make a small adjustment."
   ]
  },
  {
   "cell_type": "code",
   "execution_count": 6,
   "metadata": {
    "ExecuteTime": {
     "end_time": "2019-02-17T15:04:18.967324Z",
     "start_time": "2019-02-17T15:04:18.587692Z"
    }
   },
   "outputs": [
    {
     "name": "stdout",
     "output_type": "stream",
     "text": [
      "No trading account log file found, created new one.\n"
     ]
    }
   ],
   "source": [
    "account_activity(5000, date=pd.Timestamp(2017, 1, 1))\n",
    "account_activity(1000, date=pd.Timestamp(2017, 2, 1))\n",
    "account_activity(-500, date=pd.Timestamp(2017, 3, 1))\n",
    "account_activity(5, comment='Adjustment', date=pd.Timestamp(2017, 4, 1))"
   ]
  },
  {
   "cell_type": "markdown",
   "metadata": {},
   "source": [
    "A new TA file with the name <code>demo</code> with an opening deposit of 5000 was created. If <code>date</code> is not given, the current date will be used -- this is what one would do in practice (in this demo, dates are prescribed to demonstrate the changes in the account over a period of a few months). We can now display the account:"
   ]
  },
  {
   "cell_type": "code",
   "execution_count": 7,
   "metadata": {
    "ExecuteTime": {
     "end_time": "2019-02-17T15:04:19.286137Z",
     "start_time": "2019-02-17T15:04:18.970994Z"
    }
   },
   "outputs": [
    {
     "data": {
      "text/html": [
       "<div>\n",
       "<style scoped>\n",
       "    .dataframe tbody tr th:only-of-type {\n",
       "        vertical-align: middle;\n",
       "    }\n",
       "\n",
       "    .dataframe tbody tr th {\n",
       "        vertical-align: top;\n",
       "    }\n",
       "\n",
       "    .dataframe thead th {\n",
       "        text-align: right;\n",
       "    }\n",
       "</style>\n",
       "<table border=\"1\" class=\"dataframe\">\n",
       "  <thead>\n",
       "    <tr style=\"text-align: right;\">\n",
       "      <th></th>\n",
       "      <th>Date</th>\n",
       "      <th>Acct Bal</th>\n",
       "      <th>Comment</th>\n",
       "    </tr>\n",
       "  </thead>\n",
       "  <tbody>\n",
       "    <tr>\n",
       "      <th>0</th>\n",
       "      <td>2017-01-01</td>\n",
       "      <td>5000</td>\n",
       "      <td>Opening deposit</td>\n",
       "    </tr>\n",
       "    <tr>\n",
       "      <th>1</th>\n",
       "      <td>2017-02-01</td>\n",
       "      <td>6000</td>\n",
       "      <td>Deposit</td>\n",
       "    </tr>\n",
       "    <tr>\n",
       "      <th>2</th>\n",
       "      <td>2017-03-01</td>\n",
       "      <td>5500</td>\n",
       "      <td>Withdrawal</td>\n",
       "    </tr>\n",
       "    <tr>\n",
       "      <th>3</th>\n",
       "      <td>2017-04-01</td>\n",
       "      <td>5505</td>\n",
       "      <td>Adjustment</td>\n",
       "    </tr>\n",
       "  </tbody>\n",
       "</table>\n",
       "</div>"
      ],
      "text/plain": [
       "        Date  Acct Bal          Comment\n",
       "0 2017-01-01      5000  Opening deposit\n",
       "1 2017-02-01      6000          Deposit\n",
       "2 2017-03-01      5500       Withdrawal\n",
       "3 2017-04-01      5505       Adjustment"
      ]
     },
     "execution_count": 7,
     "metadata": {},
     "output_type": "execute_result"
    }
   ],
   "source": [
    "all_values()"
   ]
  },
  {
   "cell_type": "markdown",
   "metadata": {},
   "source": [
    "The different display options will be discussed in the next section. Comments are set automaticall, but the default comments can be overwritten, cf. the docstring for <code>account_activity()</code>.  First, let us by some shares, namely 2000 worth of <code>Share1</code>, with an order fee of 10."
   ]
  },
  {
   "cell_type": "code",
   "execution_count": 8,
   "metadata": {
    "ExecuteTime": {
     "end_time": "2019-02-17T15:04:19.323671Z",
     "start_time": "2019-02-17T15:04:19.288106Z"
    }
   },
   "outputs": [
    {
     "data": {
      "text/html": [
       "<div>\n",
       "<style scoped>\n",
       "    .dataframe tbody tr th:only-of-type {\n",
       "        vertical-align: middle;\n",
       "    }\n",
       "\n",
       "    .dataframe tbody tr th {\n",
       "        vertical-align: top;\n",
       "    }\n",
       "\n",
       "    .dataframe thead th {\n",
       "        text-align: right;\n",
       "    }\n",
       "</style>\n",
       "<table border=\"1\" class=\"dataframe\">\n",
       "  <thead>\n",
       "    <tr style=\"text-align: right;\">\n",
       "      <th></th>\n",
       "      <th>Date</th>\n",
       "      <th>Acct Bal</th>\n",
       "      <th>Comment</th>\n",
       "      <th>Share1</th>\n",
       "    </tr>\n",
       "  </thead>\n",
       "  <tbody>\n",
       "    <tr>\n",
       "      <th>0</th>\n",
       "      <td>2017-01-01</td>\n",
       "      <td>5000</td>\n",
       "      <td>Opening deposit</td>\n",
       "      <td>nan (0.00, 0.00)</td>\n",
       "    </tr>\n",
       "    <tr>\n",
       "      <th>1</th>\n",
       "      <td>2017-02-01</td>\n",
       "      <td>6000</td>\n",
       "      <td>Deposit</td>\n",
       "      <td>nan (0.00, 0.00)</td>\n",
       "    </tr>\n",
       "    <tr>\n",
       "      <th>2</th>\n",
       "      <td>2017-03-01</td>\n",
       "      <td>5500</td>\n",
       "      <td>Withdrawal</td>\n",
       "      <td>nan (0.00, 0.00)</td>\n",
       "    </tr>\n",
       "    <tr>\n",
       "      <th>3</th>\n",
       "      <td>2017-04-01</td>\n",
       "      <td>5505</td>\n",
       "      <td>Adjustment</td>\n",
       "      <td>nan (0.00, 0.00)</td>\n",
       "    </tr>\n",
       "    <tr>\n",
       "      <th>4</th>\n",
       "      <td>2017-05-01</td>\n",
       "      <td>3495</td>\n",
       "      <td>Buy Share1</td>\n",
       "      <td>nan (2000.00, 0.00)</td>\n",
       "    </tr>\n",
       "  </tbody>\n",
       "</table>\n",
       "</div>"
      ],
      "text/plain": [
       "        Date  Acct Bal          Comment               Share1\n",
       "0 2017-01-01      5000  Opening deposit     nan (0.00, 0.00)\n",
       "1 2017-02-01      6000          Deposit     nan (0.00, 0.00)\n",
       "2 2017-03-01      5500       Withdrawal     nan (0.00, 0.00)\n",
       "3 2017-04-01      5505       Adjustment     nan (0.00, 0.00)\n",
       "4 2017-05-01      3495       Buy Share1  nan (2000.00, 0.00)"
      ]
     },
     "execution_count": 8,
     "metadata": {},
     "output_type": "execute_result"
    }
   ],
   "source": [
    "buy('Share1', 2000, 10, date=pd.Timestamp(2017, 5, 1))\n",
    "all_values()"
   ]
  },
  {
   "cell_type": "markdown",
   "metadata": {},
   "source": [
    "The value of the shares plus the order fee is automatically subtracted from the account balance. Before interpreting the displayed values, let us update the share values: suppose that after 1 month, the value of the share has increased by 50:"
   ]
  },
  {
   "cell_type": "code",
   "execution_count": 9,
   "metadata": {
    "ExecuteTime": {
     "end_time": "2019-02-17T15:04:19.527220Z",
     "start_time": "2019-02-17T15:04:19.326398Z"
    }
   },
   "outputs": [
    {
     "data": {
      "text/html": [
       "<div>\n",
       "<style scoped>\n",
       "    .dataframe tbody tr th:only-of-type {\n",
       "        vertical-align: middle;\n",
       "    }\n",
       "\n",
       "    .dataframe tbody tr th {\n",
       "        vertical-align: top;\n",
       "    }\n",
       "\n",
       "    .dataframe thead th {\n",
       "        text-align: right;\n",
       "    }\n",
       "</style>\n",
       "<table border=\"1\" class=\"dataframe\">\n",
       "  <thead>\n",
       "    <tr style=\"text-align: right;\">\n",
       "      <th></th>\n",
       "      <th>Date</th>\n",
       "      <th>Acct Bal</th>\n",
       "      <th>Comment</th>\n",
       "      <th>Share1</th>\n",
       "    </tr>\n",
       "  </thead>\n",
       "  <tbody>\n",
       "    <tr>\n",
       "      <th>0</th>\n",
       "      <td>2017-01-01</td>\n",
       "      <td>5000</td>\n",
       "      <td>Opening deposit</td>\n",
       "      <td>nan (0.00, 0.00)</td>\n",
       "    </tr>\n",
       "    <tr>\n",
       "      <th>1</th>\n",
       "      <td>2017-02-01</td>\n",
       "      <td>6000</td>\n",
       "      <td>Deposit</td>\n",
       "      <td>nan (0.00, 0.00)</td>\n",
       "    </tr>\n",
       "    <tr>\n",
       "      <th>2</th>\n",
       "      <td>2017-03-01</td>\n",
       "      <td>5500</td>\n",
       "      <td>Withdrawal</td>\n",
       "      <td>nan (0.00, 0.00)</td>\n",
       "    </tr>\n",
       "    <tr>\n",
       "      <th>3</th>\n",
       "      <td>2017-04-01</td>\n",
       "      <td>5505</td>\n",
       "      <td>Adjustment</td>\n",
       "      <td>nan (0.00, 0.00)</td>\n",
       "    </tr>\n",
       "    <tr>\n",
       "      <th>4</th>\n",
       "      <td>2017-05-01</td>\n",
       "      <td>3495</td>\n",
       "      <td>Buy Share1</td>\n",
       "      <td>nan (2000.00, 0.00)</td>\n",
       "    </tr>\n",
       "    <tr>\n",
       "      <th>5</th>\n",
       "      <td>2017-06-01</td>\n",
       "      <td>3495</td>\n",
       "      <td>Update</td>\n",
       "      <td>0.1455 (2050.00, 0.00)</td>\n",
       "    </tr>\n",
       "  </tbody>\n",
       "</table>\n",
       "</div>"
      ],
      "text/plain": [
       "        Date  Acct Bal          Comment                  Share1\n",
       "0 2017-01-01      5000  Opening deposit        nan (0.00, 0.00)\n",
       "1 2017-02-01      6000          Deposit        nan (0.00, 0.00)\n",
       "2 2017-03-01      5500       Withdrawal        nan (0.00, 0.00)\n",
       "3 2017-04-01      5505       Adjustment        nan (0.00, 0.00)\n",
       "4 2017-05-01      3495       Buy Share1     nan (2000.00, 0.00)\n",
       "5 2017-06-01      3495           Update  0.1455 (2050.00, 0.00)"
      ]
     },
     "execution_count": 9,
     "metadata": {},
     "output_type": "execute_result"
    }
   ],
   "source": [
    "update(Share1=2050, date=pd.Timestamp(2017, 6, 1))\n",
    "all_values()"
   ]
  },
  {
   "cell_type": "markdown",
   "metadata": {},
   "source": [
    "The first argument in parentheses is the share value. The second value is the total amount of dividends paid for this share -- 0 so far. The value in front of the parentheses, 0.1744, is the relative share value -- having this information in the TA logbook was the main motivation for writing this package. It gives the continously compounded interest rate necessary to make the same profit over the given time period:\n",
    "\n",
    "costs, on 05-01:  2010,\n",
    "\n",
    "payout, on 06-01:  2040   (the share value minus an estimated order fee of 10),\n",
    "\n",
    "and to turn 2010 into 2040 within one month, we would need a savings account with a continuously compounded interest rate of 17.44%:"
   ]
  },
  {
   "cell_type": "code",
   "execution_count": 10,
   "metadata": {
    "ExecuteTime": {
     "end_time": "2019-02-17T15:04:19.650763Z",
     "start_time": "2019-02-17T15:04:19.529219Z"
    }
   },
   "outputs": [
    {
     "data": {
      "text/plain": [
       "2039.9938167885055"
      ]
     },
     "execution_count": 10,
     "metadata": {},
     "output_type": "execute_result"
    }
   ],
   "source": [
    "2010 * math.exp( float(31)/365 * 0.1744)"
   ]
  },
  {
   "cell_type": "markdown",
   "metadata": {},
   "source": [
    "Now, whether or not this is high enough to encourage us to sell the share is a different story -- it depends on the properties of the share, the market, and our expectations. Tools to gauge the significance of relative share values such as 0.1744 are included in the package and will be discussed later. Had there been any dividend payments for the share, then they would be taken into account for the relative value. Next, buy another share and update share values:"
   ]
  },
  {
   "cell_type": "code",
   "execution_count": 11,
   "metadata": {
    "ExecuteTime": {
     "end_time": "2019-02-17T15:04:19.829904Z",
     "start_time": "2019-02-17T15:04:19.652882Z"
    }
   },
   "outputs": [
    {
     "data": {
      "text/html": [
       "<div>\n",
       "<style scoped>\n",
       "    .dataframe tbody tr th:only-of-type {\n",
       "        vertical-align: middle;\n",
       "    }\n",
       "\n",
       "    .dataframe tbody tr th {\n",
       "        vertical-align: top;\n",
       "    }\n",
       "\n",
       "    .dataframe thead th {\n",
       "        text-align: right;\n",
       "    }\n",
       "</style>\n",
       "<table border=\"1\" class=\"dataframe\">\n",
       "  <thead>\n",
       "    <tr style=\"text-align: right;\">\n",
       "      <th></th>\n",
       "      <th>Date</th>\n",
       "      <th>Acct Bal</th>\n",
       "      <th>Comment</th>\n",
       "      <th>Share1</th>\n",
       "      <th>Share2</th>\n",
       "    </tr>\n",
       "  </thead>\n",
       "  <tbody>\n",
       "    <tr>\n",
       "      <th>0</th>\n",
       "      <td>2017-01-01</td>\n",
       "      <td>5000</td>\n",
       "      <td>Opening deposit</td>\n",
       "      <td>nan (0.00, 0.00)</td>\n",
       "      <td>nan (0.00, 0.00)</td>\n",
       "    </tr>\n",
       "    <tr>\n",
       "      <th>1</th>\n",
       "      <td>2017-02-01</td>\n",
       "      <td>6000</td>\n",
       "      <td>Deposit</td>\n",
       "      <td>nan (0.00, 0.00)</td>\n",
       "      <td>nan (0.00, 0.00)</td>\n",
       "    </tr>\n",
       "    <tr>\n",
       "      <th>2</th>\n",
       "      <td>2017-03-01</td>\n",
       "      <td>5500</td>\n",
       "      <td>Withdrawal</td>\n",
       "      <td>nan (0.00, 0.00)</td>\n",
       "      <td>nan (0.00, 0.00)</td>\n",
       "    </tr>\n",
       "    <tr>\n",
       "      <th>3</th>\n",
       "      <td>2017-04-01</td>\n",
       "      <td>5505</td>\n",
       "      <td>Adjustment</td>\n",
       "      <td>nan (0.00, 0.00)</td>\n",
       "      <td>nan (0.00, 0.00)</td>\n",
       "    </tr>\n",
       "    <tr>\n",
       "      <th>4</th>\n",
       "      <td>2017-05-01</td>\n",
       "      <td>3495</td>\n",
       "      <td>Buy Share1</td>\n",
       "      <td>nan (2000.00, 0.00)</td>\n",
       "      <td>nan (0.00, 0.00)</td>\n",
       "    </tr>\n",
       "    <tr>\n",
       "      <th>5</th>\n",
       "      <td>2017-06-01</td>\n",
       "      <td>3495</td>\n",
       "      <td>Update</td>\n",
       "      <td>0.1455 (2050.00, 0.00)</td>\n",
       "      <td>nan (0.00, 0.00)</td>\n",
       "    </tr>\n",
       "    <tr>\n",
       "      <th>6</th>\n",
       "      <td>2017-07-01</td>\n",
       "      <td>3495</td>\n",
       "      <td>Update</td>\n",
       "      <td>0.0740 (2050.00, 0.00)</td>\n",
       "      <td>nan (0.00, 0.00)</td>\n",
       "    </tr>\n",
       "    <tr>\n",
       "      <th>7</th>\n",
       "      <td>2017-07-01</td>\n",
       "      <td>2485</td>\n",
       "      <td>Buy Share2</td>\n",
       "      <td>0.0740 (2050.00, 0.00)</td>\n",
       "      <td>nan (1000.00, 0.00)</td>\n",
       "    </tr>\n",
       "    <tr>\n",
       "      <th>8</th>\n",
       "      <td>2017-08-01</td>\n",
       "      <td>2485</td>\n",
       "      <td>Update</td>\n",
       "      <td>0.0295 (2040.00, 0.00)</td>\n",
       "      <td>-0.0584 (1020.00, 0.00)</td>\n",
       "    </tr>\n",
       "  </tbody>\n",
       "</table>\n",
       "</div>"
      ],
      "text/plain": [
       "        Date  Acct Bal          Comment                  Share1  \\\n",
       "0 2017-01-01      5000  Opening deposit        nan (0.00, 0.00)   \n",
       "1 2017-02-01      6000          Deposit        nan (0.00, 0.00)   \n",
       "2 2017-03-01      5500       Withdrawal        nan (0.00, 0.00)   \n",
       "3 2017-04-01      5505       Adjustment        nan (0.00, 0.00)   \n",
       "4 2017-05-01      3495       Buy Share1     nan (2000.00, 0.00)   \n",
       "5 2017-06-01      3495           Update  0.1455 (2050.00, 0.00)   \n",
       "6 2017-07-01      3495           Update  0.0740 (2050.00, 0.00)   \n",
       "7 2017-07-01      2485       Buy Share2  0.0740 (2050.00, 0.00)   \n",
       "8 2017-08-01      2485           Update  0.0295 (2040.00, 0.00)   \n",
       "\n",
       "                    Share2  \n",
       "0         nan (0.00, 0.00)  \n",
       "1         nan (0.00, 0.00)  \n",
       "2         nan (0.00, 0.00)  \n",
       "3         nan (0.00, 0.00)  \n",
       "4         nan (0.00, 0.00)  \n",
       "5         nan (0.00, 0.00)  \n",
       "6         nan (0.00, 0.00)  \n",
       "7      nan (1000.00, 0.00)  \n",
       "8  -0.0584 (1020.00, 0.00)  "
      ]
     },
     "execution_count": 11,
     "metadata": {},
     "output_type": "execute_result"
    }
   ],
   "source": [
    "update(Share1=2050, date=pd.Timestamp(2017, 7, 1))\n",
    "buy('Share2', 1000, 10, date=pd.Timestamp(2017, 7, 1))\n",
    "update(Share1=2040, Share2=1020, date=pd.Timestamp(2017, 8, 1))\n",
    "all_values()"
   ]
  },
  {
   "cell_type": "markdown",
   "metadata": {},
   "source": [
    "For <code>update()</code>, the current share values are given as a dictionary with the share names as keys. If those values are not given, only the relative share values will be updated according to their time-dependancy. Note how the relative value of <code>Share1</code> has decreased in row 6 despite the share value remaining the same -- that's because more time has passed. Next we log a dividend payment and then sell one of the shares."
   ]
  },
  {
   "cell_type": "code",
   "execution_count": 12,
   "metadata": {
    "ExecuteTime": {
     "end_time": "2019-02-17T15:04:19.933731Z",
     "start_time": "2019-02-17T15:04:19.832565Z"
    }
   },
   "outputs": [
    {
     "data": {
      "text/html": [
       "<div>\n",
       "<style scoped>\n",
       "    .dataframe tbody tr th:only-of-type {\n",
       "        vertical-align: middle;\n",
       "    }\n",
       "\n",
       "    .dataframe tbody tr th {\n",
       "        vertical-align: top;\n",
       "    }\n",
       "\n",
       "    .dataframe thead th {\n",
       "        text-align: right;\n",
       "    }\n",
       "</style>\n",
       "<table border=\"1\" class=\"dataframe\">\n",
       "  <thead>\n",
       "    <tr style=\"text-align: right;\">\n",
       "      <th></th>\n",
       "      <th>Date</th>\n",
       "      <th>Acct Bal</th>\n",
       "      <th>Comment</th>\n",
       "      <th>Share1</th>\n",
       "      <th>Share2</th>\n",
       "    </tr>\n",
       "  </thead>\n",
       "  <tbody>\n",
       "    <tr>\n",
       "      <th>0</th>\n",
       "      <td>2017-01-01</td>\n",
       "      <td>5000</td>\n",
       "      <td>Opening deposit</td>\n",
       "      <td>nan (0.00, 0.00)</td>\n",
       "      <td>nan (0.00, 0.00)</td>\n",
       "    </tr>\n",
       "    <tr>\n",
       "      <th>1</th>\n",
       "      <td>2017-02-01</td>\n",
       "      <td>6000</td>\n",
       "      <td>Deposit</td>\n",
       "      <td>nan (0.00, 0.00)</td>\n",
       "      <td>nan (0.00, 0.00)</td>\n",
       "    </tr>\n",
       "    <tr>\n",
       "      <th>2</th>\n",
       "      <td>2017-03-01</td>\n",
       "      <td>5500</td>\n",
       "      <td>Withdrawal</td>\n",
       "      <td>nan (0.00, 0.00)</td>\n",
       "      <td>nan (0.00, 0.00)</td>\n",
       "    </tr>\n",
       "    <tr>\n",
       "      <th>3</th>\n",
       "      <td>2017-04-01</td>\n",
       "      <td>5505</td>\n",
       "      <td>Adjustment</td>\n",
       "      <td>nan (0.00, 0.00)</td>\n",
       "      <td>nan (0.00, 0.00)</td>\n",
       "    </tr>\n",
       "    <tr>\n",
       "      <th>4</th>\n",
       "      <td>2017-05-01</td>\n",
       "      <td>3495</td>\n",
       "      <td>Buy Share1</td>\n",
       "      <td>nan (2000.00, 0.00)</td>\n",
       "      <td>nan (0.00, 0.00)</td>\n",
       "    </tr>\n",
       "    <tr>\n",
       "      <th>5</th>\n",
       "      <td>2017-06-01</td>\n",
       "      <td>3495</td>\n",
       "      <td>Update</td>\n",
       "      <td>0.1455 (2050.00, 0.00)</td>\n",
       "      <td>nan (0.00, 0.00)</td>\n",
       "    </tr>\n",
       "    <tr>\n",
       "      <th>6</th>\n",
       "      <td>2017-07-01</td>\n",
       "      <td>3495</td>\n",
       "      <td>Update</td>\n",
       "      <td>0.0740 (2050.00, 0.00)</td>\n",
       "      <td>nan (0.00, 0.00)</td>\n",
       "    </tr>\n",
       "    <tr>\n",
       "      <th>7</th>\n",
       "      <td>2017-07-01</td>\n",
       "      <td>2485</td>\n",
       "      <td>Buy Share2</td>\n",
       "      <td>0.0740 (2050.00, 0.00)</td>\n",
       "      <td>nan (1000.00, 0.00)</td>\n",
       "    </tr>\n",
       "    <tr>\n",
       "      <th>8</th>\n",
       "      <td>2017-08-01</td>\n",
       "      <td>2485</td>\n",
       "      <td>Update</td>\n",
       "      <td>0.0295 (2040.00, 0.00)</td>\n",
       "      <td>-0.0584 (1020.00, 0.00)</td>\n",
       "    </tr>\n",
       "    <tr>\n",
       "      <th>9</th>\n",
       "      <td>2017-09-01</td>\n",
       "      <td>2685</td>\n",
       "      <td>Dividend Share1</td>\n",
       "      <td>0.3016 (2040.00, 200.00)</td>\n",
       "      <td>-0.0584 (1020.00, 0.00)</td>\n",
       "    </tr>\n",
       "    <tr>\n",
       "      <th>10</th>\n",
       "      <td>2017-10-01</td>\n",
       "      <td>2685</td>\n",
       "      <td>Update</td>\n",
       "      <td>0.2744 (2070.00, 200.00)</td>\n",
       "      <td>0.0970 (1050.00, 0.00)</td>\n",
       "    </tr>\n",
       "  </tbody>\n",
       "</table>\n",
       "</div>"
      ],
      "text/plain": [
       "         Date  Acct Bal          Comment                    Share1  \\\n",
       "0  2017-01-01      5000  Opening deposit          nan (0.00, 0.00)   \n",
       "1  2017-02-01      6000          Deposit          nan (0.00, 0.00)   \n",
       "2  2017-03-01      5500       Withdrawal          nan (0.00, 0.00)   \n",
       "3  2017-04-01      5505       Adjustment          nan (0.00, 0.00)   \n",
       "4  2017-05-01      3495       Buy Share1       nan (2000.00, 0.00)   \n",
       "5  2017-06-01      3495           Update    0.1455 (2050.00, 0.00)   \n",
       "6  2017-07-01      3495           Update    0.0740 (2050.00, 0.00)   \n",
       "7  2017-07-01      2485       Buy Share2    0.0740 (2050.00, 0.00)   \n",
       "8  2017-08-01      2485           Update    0.0295 (2040.00, 0.00)   \n",
       "9  2017-09-01      2685  Dividend Share1  0.3016 (2040.00, 200.00)   \n",
       "10 2017-10-01      2685           Update  0.2744 (2070.00, 200.00)   \n",
       "\n",
       "                     Share2  \n",
       "0          nan (0.00, 0.00)  \n",
       "1          nan (0.00, 0.00)  \n",
       "2          nan (0.00, 0.00)  \n",
       "3          nan (0.00, 0.00)  \n",
       "4          nan (0.00, 0.00)  \n",
       "5          nan (0.00, 0.00)  \n",
       "6          nan (0.00, 0.00)  \n",
       "7       nan (1000.00, 0.00)  \n",
       "8   -0.0584 (1020.00, 0.00)  \n",
       "9   -0.0584 (1020.00, 0.00)  \n",
       "10   0.0970 (1050.00, 0.00)  "
      ]
     },
     "execution_count": 12,
     "metadata": {},
     "output_type": "execute_result"
    }
   ],
   "source": [
    "dividend('Share1', 200, date=pd.Timestamp(2017, 9, 1))\n",
    "update(Share1=2070, Share2=1050, date=pd.Timestamp(2017, 10, 1))\n",
    "all_values()"
   ]
  },
  {
   "cell_type": "code",
   "execution_count": 13,
   "metadata": {
    "ExecuteTime": {
     "end_time": "2019-02-17T15:04:20.047850Z",
     "start_time": "2019-02-17T15:04:19.936524Z"
    }
   },
   "outputs": [
    {
     "name": "stdout",
     "output_type": "stream",
     "text": [
      "Share1 was sold with an overall return of 28.5%.\n"
     ]
    },
    {
     "data": {
      "text/html": [
       "<div>\n",
       "<style scoped>\n",
       "    .dataframe tbody tr th:only-of-type {\n",
       "        vertical-align: middle;\n",
       "    }\n",
       "\n",
       "    .dataframe tbody tr th {\n",
       "        vertical-align: top;\n",
       "    }\n",
       "\n",
       "    .dataframe thead th {\n",
       "        text-align: right;\n",
       "    }\n",
       "</style>\n",
       "<table border=\"1\" class=\"dataframe\">\n",
       "  <thead>\n",
       "    <tr style=\"text-align: right;\">\n",
       "      <th></th>\n",
       "      <th>Date</th>\n",
       "      <th>Acct Bal</th>\n",
       "      <th>Comment</th>\n",
       "      <th>Share2</th>\n",
       "    </tr>\n",
       "  </thead>\n",
       "  <tbody>\n",
       "    <tr>\n",
       "      <th>0</th>\n",
       "      <td>2017-01-01</td>\n",
       "      <td>5000</td>\n",
       "      <td>Opening deposit</td>\n",
       "      <td>nan (0.00, 0.00)</td>\n",
       "    </tr>\n",
       "    <tr>\n",
       "      <th>1</th>\n",
       "      <td>2017-02-01</td>\n",
       "      <td>6000</td>\n",
       "      <td>Deposit</td>\n",
       "      <td>nan (0.00, 0.00)</td>\n",
       "    </tr>\n",
       "    <tr>\n",
       "      <th>2</th>\n",
       "      <td>2017-03-01</td>\n",
       "      <td>5500</td>\n",
       "      <td>Withdrawal</td>\n",
       "      <td>nan (0.00, 0.00)</td>\n",
       "    </tr>\n",
       "    <tr>\n",
       "      <th>3</th>\n",
       "      <td>2017-04-01</td>\n",
       "      <td>5505</td>\n",
       "      <td>Adjustment</td>\n",
       "      <td>nan (0.00, 0.00)</td>\n",
       "    </tr>\n",
       "    <tr>\n",
       "      <th>4</th>\n",
       "      <td>2017-05-01</td>\n",
       "      <td>3495</td>\n",
       "      <td>Buy Share1</td>\n",
       "      <td>nan (0.00, 0.00)</td>\n",
       "    </tr>\n",
       "    <tr>\n",
       "      <th>5</th>\n",
       "      <td>2017-06-01</td>\n",
       "      <td>3495</td>\n",
       "      <td>Update</td>\n",
       "      <td>nan (0.00, 0.00)</td>\n",
       "    </tr>\n",
       "    <tr>\n",
       "      <th>6</th>\n",
       "      <td>2017-07-01</td>\n",
       "      <td>3495</td>\n",
       "      <td>Update</td>\n",
       "      <td>nan (0.00, 0.00)</td>\n",
       "    </tr>\n",
       "    <tr>\n",
       "      <th>7</th>\n",
       "      <td>2017-07-01</td>\n",
       "      <td>2485</td>\n",
       "      <td>Buy Share2</td>\n",
       "      <td>nan (1000.00, 0.00)</td>\n",
       "    </tr>\n",
       "    <tr>\n",
       "      <th>8</th>\n",
       "      <td>2017-08-01</td>\n",
       "      <td>2485</td>\n",
       "      <td>Update</td>\n",
       "      <td>-0.0584 (1020.00, 0.00)</td>\n",
       "    </tr>\n",
       "    <tr>\n",
       "      <th>9</th>\n",
       "      <td>2017-09-01</td>\n",
       "      <td>2685</td>\n",
       "      <td>Dividend Share1</td>\n",
       "      <td>-0.0584 (1020.00, 0.00)</td>\n",
       "    </tr>\n",
       "    <tr>\n",
       "      <th>10</th>\n",
       "      <td>2017-10-01</td>\n",
       "      <td>2685</td>\n",
       "      <td>Update</td>\n",
       "      <td>0.0970 (1050.00, 0.00)</td>\n",
       "    </tr>\n",
       "    <tr>\n",
       "      <th>11</th>\n",
       "      <td>2017-10-01</td>\n",
       "      <td>4750</td>\n",
       "      <td>Sell Share1</td>\n",
       "      <td>0.0970 (1050.00, 0.00)</td>\n",
       "    </tr>\n",
       "    <tr>\n",
       "      <th>12</th>\n",
       "      <td>2017-11-01</td>\n",
       "      <td>4750</td>\n",
       "      <td>Update</td>\n",
       "      <td>0.1573 (1080.00, 0.00)</td>\n",
       "    </tr>\n",
       "  </tbody>\n",
       "</table>\n",
       "</div>"
      ],
      "text/plain": [
       "         Date  Acct Bal          Comment                   Share2\n",
       "0  2017-01-01      5000  Opening deposit         nan (0.00, 0.00)\n",
       "1  2017-02-01      6000          Deposit         nan (0.00, 0.00)\n",
       "2  2017-03-01      5500       Withdrawal         nan (0.00, 0.00)\n",
       "3  2017-04-01      5505       Adjustment         nan (0.00, 0.00)\n",
       "4  2017-05-01      3495       Buy Share1         nan (0.00, 0.00)\n",
       "5  2017-06-01      3495           Update         nan (0.00, 0.00)\n",
       "6  2017-07-01      3495           Update         nan (0.00, 0.00)\n",
       "7  2017-07-01      2485       Buy Share2      nan (1000.00, 0.00)\n",
       "8  2017-08-01      2485           Update  -0.0584 (1020.00, 0.00)\n",
       "9  2017-09-01      2685  Dividend Share1  -0.0584 (1020.00, 0.00)\n",
       "10 2017-10-01      2685           Update   0.0970 (1050.00, 0.00)\n",
       "11 2017-10-01      4750      Sell Share1   0.0970 (1050.00, 0.00)\n",
       "12 2017-11-01      4750           Update   0.1573 (1080.00, 0.00)"
      ]
     },
     "execution_count": 13,
     "metadata": {},
     "output_type": "execute_result"
    }
   ],
   "source": [
    "sell('Share1',2065,date = pd.Timestamp(2017,10,1))\n",
    "update(Share2=1080,date = pd.Timestamp(2017,11,1))\n",
    "all_values()"
   ]
  },
  {
   "cell_type": "markdown",
   "metadata": {},
   "source": [
    "When selling, one would simply pass the total amount credited to the account as an argument. E.g., here, the share value of 2070 minus a 5 order fee. Upon selling, a message is produced stating the overall relative return (here, this return is a little bit better than the last relative value that was displayed, because the order fee for the sale turned out to be less than the 10 that are used for computing the relative values; the default sales fee can be set in the code). Note that the values for <code>Share1</code> are not displayed, because it is not an active share anymore, cf. next section. If a mistake is made handling the account, it can be undone as follows."
   ]
  },
  {
   "cell_type": "code",
   "execution_count": 14,
   "metadata": {
    "ExecuteTime": {
     "end_time": "2019-02-17T15:04:20.178052Z",
     "start_time": "2019-02-17T15:04:20.050293Z"
    }
   },
   "outputs": [
    {
     "data": {
      "text/html": [
       "<div>\n",
       "<style scoped>\n",
       "    .dataframe tbody tr th:only-of-type {\n",
       "        vertical-align: middle;\n",
       "    }\n",
       "\n",
       "    .dataframe tbody tr th {\n",
       "        vertical-align: top;\n",
       "    }\n",
       "\n",
       "    .dataframe thead th {\n",
       "        text-align: right;\n",
       "    }\n",
       "</style>\n",
       "<table border=\"1\" class=\"dataframe\">\n",
       "  <thead>\n",
       "    <tr style=\"text-align: right;\">\n",
       "      <th></th>\n",
       "      <th>Date</th>\n",
       "      <th>Acct Bal</th>\n",
       "      <th>Comment</th>\n",
       "      <th>Share2</th>\n",
       "    </tr>\n",
       "  </thead>\n",
       "  <tbody>\n",
       "    <tr>\n",
       "      <th>0</th>\n",
       "      <td>2017-01-01</td>\n",
       "      <td>5000</td>\n",
       "      <td>Opening deposit</td>\n",
       "      <td>nan (0.00, 0.00)</td>\n",
       "    </tr>\n",
       "    <tr>\n",
       "      <th>1</th>\n",
       "      <td>2017-02-01</td>\n",
       "      <td>6000</td>\n",
       "      <td>Deposit</td>\n",
       "      <td>nan (0.00, 0.00)</td>\n",
       "    </tr>\n",
       "    <tr>\n",
       "      <th>2</th>\n",
       "      <td>2017-03-01</td>\n",
       "      <td>5500</td>\n",
       "      <td>Withdrawal</td>\n",
       "      <td>nan (0.00, 0.00)</td>\n",
       "    </tr>\n",
       "    <tr>\n",
       "      <th>3</th>\n",
       "      <td>2017-04-01</td>\n",
       "      <td>5505</td>\n",
       "      <td>Adjustment</td>\n",
       "      <td>nan (0.00, 0.00)</td>\n",
       "    </tr>\n",
       "    <tr>\n",
       "      <th>4</th>\n",
       "      <td>2017-05-01</td>\n",
       "      <td>3495</td>\n",
       "      <td>Buy Share1</td>\n",
       "      <td>nan (0.00, 0.00)</td>\n",
       "    </tr>\n",
       "    <tr>\n",
       "      <th>5</th>\n",
       "      <td>2017-06-01</td>\n",
       "      <td>3495</td>\n",
       "      <td>Update</td>\n",
       "      <td>nan (0.00, 0.00)</td>\n",
       "    </tr>\n",
       "    <tr>\n",
       "      <th>6</th>\n",
       "      <td>2017-07-01</td>\n",
       "      <td>3495</td>\n",
       "      <td>Update</td>\n",
       "      <td>nan (0.00, 0.00)</td>\n",
       "    </tr>\n",
       "    <tr>\n",
       "      <th>7</th>\n",
       "      <td>2017-07-01</td>\n",
       "      <td>2485</td>\n",
       "      <td>Buy Share2</td>\n",
       "      <td>nan (1000.00, 0.00)</td>\n",
       "    </tr>\n",
       "    <tr>\n",
       "      <th>8</th>\n",
       "      <td>2017-08-01</td>\n",
       "      <td>2485</td>\n",
       "      <td>Update</td>\n",
       "      <td>-0.0584 (1020.00, 0.00)</td>\n",
       "    </tr>\n",
       "    <tr>\n",
       "      <th>9</th>\n",
       "      <td>2017-09-01</td>\n",
       "      <td>2685</td>\n",
       "      <td>Dividend Share1</td>\n",
       "      <td>-0.0584 (1020.00, 0.00)</td>\n",
       "    </tr>\n",
       "    <tr>\n",
       "      <th>10</th>\n",
       "      <td>2017-10-01</td>\n",
       "      <td>2685</td>\n",
       "      <td>Update</td>\n",
       "      <td>0.0970 (1050.00, 0.00)</td>\n",
       "    </tr>\n",
       "    <tr>\n",
       "      <th>11</th>\n",
       "      <td>2017-10-01</td>\n",
       "      <td>4750</td>\n",
       "      <td>Sell Share1</td>\n",
       "      <td>0.0970 (1050.00, 0.00)</td>\n",
       "    </tr>\n",
       "    <tr>\n",
       "      <th>12</th>\n",
       "      <td>2017-11-01</td>\n",
       "      <td>4750</td>\n",
       "      <td>Update</td>\n",
       "      <td>0.1573 (1080.00, 0.00)</td>\n",
       "    </tr>\n",
       "    <tr>\n",
       "      <th>13</th>\n",
       "      <td>2017-11-01</td>\n",
       "      <td>4747</td>\n",
       "      <td>Mistake</td>\n",
       "      <td>0.1573 (1080.00, 0.00)</td>\n",
       "    </tr>\n",
       "  </tbody>\n",
       "</table>\n",
       "</div>"
      ],
      "text/plain": [
       "         Date  Acct Bal          Comment                   Share2\n",
       "0  2017-01-01      5000  Opening deposit         nan (0.00, 0.00)\n",
       "1  2017-02-01      6000          Deposit         nan (0.00, 0.00)\n",
       "2  2017-03-01      5500       Withdrawal         nan (0.00, 0.00)\n",
       "3  2017-04-01      5505       Adjustment         nan (0.00, 0.00)\n",
       "4  2017-05-01      3495       Buy Share1         nan (0.00, 0.00)\n",
       "5  2017-06-01      3495           Update         nan (0.00, 0.00)\n",
       "6  2017-07-01      3495           Update         nan (0.00, 0.00)\n",
       "7  2017-07-01      2485       Buy Share2      nan (1000.00, 0.00)\n",
       "8  2017-08-01      2485           Update  -0.0584 (1020.00, 0.00)\n",
       "9  2017-09-01      2685  Dividend Share1  -0.0584 (1020.00, 0.00)\n",
       "10 2017-10-01      2685           Update   0.0970 (1050.00, 0.00)\n",
       "11 2017-10-01      4750      Sell Share1   0.0970 (1050.00, 0.00)\n",
       "12 2017-11-01      4750           Update   0.1573 (1080.00, 0.00)\n",
       "13 2017-11-01      4747          Mistake   0.1573 (1080.00, 0.00)"
      ]
     },
     "execution_count": 14,
     "metadata": {},
     "output_type": "execute_result"
    }
   ],
   "source": [
    "account_activity(-3, comment='Mistake', date=pd.Timestamp(2017, 11, 1))\n",
    "all_values()"
   ]
  },
  {
   "cell_type": "code",
   "execution_count": 15,
   "metadata": {
    "ExecuteTime": {
     "end_time": "2019-02-17T15:04:20.782418Z",
     "start_time": "2019-02-17T15:04:20.180257Z"
    }
   },
   "outputs": [
    {
     "name": "stdout",
     "output_type": "stream",
     "text": [
      "Backed up trading account and deleted last row.\n"
     ]
    },
    {
     "data": {
      "text/html": [
       "<div>\n",
       "<style scoped>\n",
       "    .dataframe tbody tr th:only-of-type {\n",
       "        vertical-align: middle;\n",
       "    }\n",
       "\n",
       "    .dataframe tbody tr th {\n",
       "        vertical-align: top;\n",
       "    }\n",
       "\n",
       "    .dataframe thead th {\n",
       "        text-align: right;\n",
       "    }\n",
       "</style>\n",
       "<table border=\"1\" class=\"dataframe\">\n",
       "  <thead>\n",
       "    <tr style=\"text-align: right;\">\n",
       "      <th></th>\n",
       "      <th>Date</th>\n",
       "      <th>Acct Bal</th>\n",
       "      <th>Comment</th>\n",
       "      <th>Share2</th>\n",
       "    </tr>\n",
       "  </thead>\n",
       "  <tbody>\n",
       "    <tr>\n",
       "      <th>0</th>\n",
       "      <td>2017-01-01</td>\n",
       "      <td>5000</td>\n",
       "      <td>Opening deposit</td>\n",
       "      <td>nan (0.00, 0.00)</td>\n",
       "    </tr>\n",
       "    <tr>\n",
       "      <th>1</th>\n",
       "      <td>2017-02-01</td>\n",
       "      <td>6000</td>\n",
       "      <td>Deposit</td>\n",
       "      <td>nan (0.00, 0.00)</td>\n",
       "    </tr>\n",
       "    <tr>\n",
       "      <th>2</th>\n",
       "      <td>2017-03-01</td>\n",
       "      <td>5500</td>\n",
       "      <td>Withdrawal</td>\n",
       "      <td>nan (0.00, 0.00)</td>\n",
       "    </tr>\n",
       "    <tr>\n",
       "      <th>3</th>\n",
       "      <td>2017-04-01</td>\n",
       "      <td>5505</td>\n",
       "      <td>Adjustment</td>\n",
       "      <td>nan (0.00, 0.00)</td>\n",
       "    </tr>\n",
       "    <tr>\n",
       "      <th>4</th>\n",
       "      <td>2017-05-01</td>\n",
       "      <td>3495</td>\n",
       "      <td>Buy Share1</td>\n",
       "      <td>nan (0.00, 0.00)</td>\n",
       "    </tr>\n",
       "    <tr>\n",
       "      <th>5</th>\n",
       "      <td>2017-06-01</td>\n",
       "      <td>3495</td>\n",
       "      <td>Update</td>\n",
       "      <td>nan (0.00, 0.00)</td>\n",
       "    </tr>\n",
       "    <tr>\n",
       "      <th>6</th>\n",
       "      <td>2017-07-01</td>\n",
       "      <td>3495</td>\n",
       "      <td>Update</td>\n",
       "      <td>nan (0.00, 0.00)</td>\n",
       "    </tr>\n",
       "    <tr>\n",
       "      <th>7</th>\n",
       "      <td>2017-07-01</td>\n",
       "      <td>2485</td>\n",
       "      <td>Buy Share2</td>\n",
       "      <td>nan (1000.00, 0.00)</td>\n",
       "    </tr>\n",
       "    <tr>\n",
       "      <th>8</th>\n",
       "      <td>2017-08-01</td>\n",
       "      <td>2485</td>\n",
       "      <td>Update</td>\n",
       "      <td>-0.0584 (1020.00, 0.00)</td>\n",
       "    </tr>\n",
       "    <tr>\n",
       "      <th>9</th>\n",
       "      <td>2017-09-01</td>\n",
       "      <td>2685</td>\n",
       "      <td>Dividend Share1</td>\n",
       "      <td>-0.0584 (1020.00, 0.00)</td>\n",
       "    </tr>\n",
       "    <tr>\n",
       "      <th>10</th>\n",
       "      <td>2017-10-01</td>\n",
       "      <td>2685</td>\n",
       "      <td>Update</td>\n",
       "      <td>0.0970 (1050.00, 0.00)</td>\n",
       "    </tr>\n",
       "    <tr>\n",
       "      <th>11</th>\n",
       "      <td>2017-10-01</td>\n",
       "      <td>4750</td>\n",
       "      <td>Sell Share1</td>\n",
       "      <td>0.0970 (1050.00, 0.00)</td>\n",
       "    </tr>\n",
       "    <tr>\n",
       "      <th>12</th>\n",
       "      <td>2017-11-01</td>\n",
       "      <td>4750</td>\n",
       "      <td>Update</td>\n",
       "      <td>0.1573 (1080.00, 0.00)</td>\n",
       "    </tr>\n",
       "  </tbody>\n",
       "</table>\n",
       "</div>"
      ],
      "text/plain": [
       "         Date  Acct Bal          Comment                   Share2\n",
       "0  2017-01-01      5000  Opening deposit         nan (0.00, 0.00)\n",
       "1  2017-02-01      6000          Deposit         nan (0.00, 0.00)\n",
       "2  2017-03-01      5500       Withdrawal         nan (0.00, 0.00)\n",
       "3  2017-04-01      5505       Adjustment         nan (0.00, 0.00)\n",
       "4  2017-05-01      3495       Buy Share1         nan (0.00, 0.00)\n",
       "5  2017-06-01      3495           Update         nan (0.00, 0.00)\n",
       "6  2017-07-01      3495           Update         nan (0.00, 0.00)\n",
       "7  2017-07-01      2485       Buy Share2      nan (1000.00, 0.00)\n",
       "8  2017-08-01      2485           Update  -0.0584 (1020.00, 0.00)\n",
       "9  2017-09-01      2685  Dividend Share1  -0.0584 (1020.00, 0.00)\n",
       "10 2017-10-01      2685           Update   0.0970 (1050.00, 0.00)\n",
       "11 2017-10-01      4750      Sell Share1   0.0970 (1050.00, 0.00)\n",
       "12 2017-11-01      4750           Update   0.1573 (1080.00, 0.00)"
      ]
     },
     "execution_count": 15,
     "metadata": {},
     "output_type": "execute_result"
    }
   ],
   "source": [
    "delete_last_row()\n",
    "all_values()"
   ]
  },
  {
   "cell_type": "markdown",
   "metadata": {},
   "source": [
    "Other corrections have to be done manually. The correction method <code>delete_last_row()</code> also calls the function <code>backup()</code>, which should be run from time to time. It saves the dataframe, both as a python object and as a spreadheet (with a timestamp). "
   ]
  },
  {
   "cell_type": "markdown",
   "metadata": {},
   "source": [
    "## Dislaying the TA Log"
   ]
  },
  {
   "cell_type": "markdown",
   "metadata": {},
   "source": [
    "In the displayed TA dataframes above, the column for <code>Share1</code> was dropped after it had been sold. It is still in the dataframe, of course, and it can be displayed as follows."
   ]
  },
  {
   "cell_type": "code",
   "execution_count": 16,
   "metadata": {
    "ExecuteTime": {
     "end_time": "2019-02-17T15:04:20.835123Z",
     "start_time": "2019-02-17T15:04:20.787796Z"
    }
   },
   "outputs": [
    {
     "data": {
      "text/html": [
       "<div>\n",
       "<style scoped>\n",
       "    .dataframe tbody tr th:only-of-type {\n",
       "        vertical-align: middle;\n",
       "    }\n",
       "\n",
       "    .dataframe tbody tr th {\n",
       "        vertical-align: top;\n",
       "    }\n",
       "\n",
       "    .dataframe thead th {\n",
       "        text-align: right;\n",
       "    }\n",
       "</style>\n",
       "<table border=\"1\" class=\"dataframe\">\n",
       "  <thead>\n",
       "    <tr style=\"text-align: right;\">\n",
       "      <th></th>\n",
       "      <th>Date</th>\n",
       "      <th>Acct Bal</th>\n",
       "      <th>Comment</th>\n",
       "      <th>Share1</th>\n",
       "      <th>Share2</th>\n",
       "    </tr>\n",
       "  </thead>\n",
       "  <tbody>\n",
       "    <tr>\n",
       "      <th>0</th>\n",
       "      <td>2017-01-01</td>\n",
       "      <td>5000</td>\n",
       "      <td>Opening deposit</td>\n",
       "      <td>nan (0.00, 0.00)</td>\n",
       "      <td>nan (0.00, 0.00)</td>\n",
       "    </tr>\n",
       "    <tr>\n",
       "      <th>1</th>\n",
       "      <td>2017-02-01</td>\n",
       "      <td>6000</td>\n",
       "      <td>Deposit</td>\n",
       "      <td>nan (0.00, 0.00)</td>\n",
       "      <td>nan (0.00, 0.00)</td>\n",
       "    </tr>\n",
       "    <tr>\n",
       "      <th>2</th>\n",
       "      <td>2017-03-01</td>\n",
       "      <td>5500</td>\n",
       "      <td>Withdrawal</td>\n",
       "      <td>nan (0.00, 0.00)</td>\n",
       "      <td>nan (0.00, 0.00)</td>\n",
       "    </tr>\n",
       "    <tr>\n",
       "      <th>3</th>\n",
       "      <td>2017-04-01</td>\n",
       "      <td>5505</td>\n",
       "      <td>Adjustment</td>\n",
       "      <td>nan (0.00, 0.00)</td>\n",
       "      <td>nan (0.00, 0.00)</td>\n",
       "    </tr>\n",
       "    <tr>\n",
       "      <th>4</th>\n",
       "      <td>2017-05-01</td>\n",
       "      <td>3495</td>\n",
       "      <td>Buy Share1</td>\n",
       "      <td>nan (2000.00, 0.00)</td>\n",
       "      <td>nan (0.00, 0.00)</td>\n",
       "    </tr>\n",
       "    <tr>\n",
       "      <th>5</th>\n",
       "      <td>2017-06-01</td>\n",
       "      <td>3495</td>\n",
       "      <td>Update</td>\n",
       "      <td>0.1455 (2050.00, 0.00)</td>\n",
       "      <td>nan (0.00, 0.00)</td>\n",
       "    </tr>\n",
       "    <tr>\n",
       "      <th>6</th>\n",
       "      <td>2017-07-01</td>\n",
       "      <td>3495</td>\n",
       "      <td>Update</td>\n",
       "      <td>0.0740 (2050.00, 0.00)</td>\n",
       "      <td>nan (0.00, 0.00)</td>\n",
       "    </tr>\n",
       "    <tr>\n",
       "      <th>7</th>\n",
       "      <td>2017-07-01</td>\n",
       "      <td>2485</td>\n",
       "      <td>Buy Share2</td>\n",
       "      <td>0.0740 (2050.00, 0.00)</td>\n",
       "      <td>nan (1000.00, 0.00)</td>\n",
       "    </tr>\n",
       "    <tr>\n",
       "      <th>8</th>\n",
       "      <td>2017-08-01</td>\n",
       "      <td>2485</td>\n",
       "      <td>Update</td>\n",
       "      <td>0.0295 (2040.00, 0.00)</td>\n",
       "      <td>-0.0584 (1020.00, 0.00)</td>\n",
       "    </tr>\n",
       "    <tr>\n",
       "      <th>9</th>\n",
       "      <td>2017-09-01</td>\n",
       "      <td>2685</td>\n",
       "      <td>Dividend Share1</td>\n",
       "      <td>0.3016 (2040.00, 200.00)</td>\n",
       "      <td>-0.0584 (1020.00, 0.00)</td>\n",
       "    </tr>\n",
       "    <tr>\n",
       "      <th>10</th>\n",
       "      <td>2017-10-01</td>\n",
       "      <td>2685</td>\n",
       "      <td>Update</td>\n",
       "      <td>0.2744 (2070.00, 200.00)</td>\n",
       "      <td>0.0970 (1050.00, 0.00)</td>\n",
       "    </tr>\n",
       "    <tr>\n",
       "      <th>11</th>\n",
       "      <td>2017-10-01</td>\n",
       "      <td>4750</td>\n",
       "      <td>Sell Share1</td>\n",
       "      <td>nan (0.00, 0.00)</td>\n",
       "      <td>0.0970 (1050.00, 0.00)</td>\n",
       "    </tr>\n",
       "    <tr>\n",
       "      <th>12</th>\n",
       "      <td>2017-11-01</td>\n",
       "      <td>4750</td>\n",
       "      <td>Update</td>\n",
       "      <td>nan (0.00, 0.00)</td>\n",
       "      <td>0.1573 (1080.00, 0.00)</td>\n",
       "    </tr>\n",
       "  </tbody>\n",
       "</table>\n",
       "</div>"
      ],
      "text/plain": [
       "         Date  Acct Bal          Comment                    Share1  \\\n",
       "0  2017-01-01      5000  Opening deposit          nan (0.00, 0.00)   \n",
       "1  2017-02-01      6000          Deposit          nan (0.00, 0.00)   \n",
       "2  2017-03-01      5500       Withdrawal          nan (0.00, 0.00)   \n",
       "3  2017-04-01      5505       Adjustment          nan (0.00, 0.00)   \n",
       "4  2017-05-01      3495       Buy Share1       nan (2000.00, 0.00)   \n",
       "5  2017-06-01      3495           Update    0.1455 (2050.00, 0.00)   \n",
       "6  2017-07-01      3495           Update    0.0740 (2050.00, 0.00)   \n",
       "7  2017-07-01      2485       Buy Share2    0.0740 (2050.00, 0.00)   \n",
       "8  2017-08-01      2485           Update    0.0295 (2040.00, 0.00)   \n",
       "9  2017-09-01      2685  Dividend Share1  0.3016 (2040.00, 200.00)   \n",
       "10 2017-10-01      2685           Update  0.2744 (2070.00, 200.00)   \n",
       "11 2017-10-01      4750      Sell Share1          nan (0.00, 0.00)   \n",
       "12 2017-11-01      4750           Update          nan (0.00, 0.00)   \n",
       "\n",
       "                     Share2  \n",
       "0          nan (0.00, 0.00)  \n",
       "1          nan (0.00, 0.00)  \n",
       "2          nan (0.00, 0.00)  \n",
       "3          nan (0.00, 0.00)  \n",
       "4          nan (0.00, 0.00)  \n",
       "5          nan (0.00, 0.00)  \n",
       "6          nan (0.00, 0.00)  \n",
       "7       nan (1000.00, 0.00)  \n",
       "8   -0.0584 (1020.00, 0.00)  \n",
       "9   -0.0584 (1020.00, 0.00)  \n",
       "10   0.0970 (1050.00, 0.00)  \n",
       "11   0.0970 (1050.00, 0.00)  \n",
       "12   0.1573 (1080.00, 0.00)  "
      ]
     },
     "execution_count": 16,
     "metadata": {},
     "output_type": "execute_result"
    }
   ],
   "source": [
    "all_values(all_shares=True)"
   ]
  },
  {
   "cell_type": "markdown",
   "metadata": {},
   "source": [
    "Now, the entries in the columns with share values are strings. We can also generate dataframes with only the share values or the relative values as floats."
   ]
  },
  {
   "cell_type": "code",
   "execution_count": 17,
   "metadata": {
    "ExecuteTime": {
     "end_time": "2019-02-17T15:04:20.981697Z",
     "start_time": "2019-02-17T15:04:20.839045Z"
    }
   },
   "outputs": [
    {
     "data": {
      "text/html": [
       "<div>\n",
       "<style scoped>\n",
       "    .dataframe tbody tr th:only-of-type {\n",
       "        vertical-align: middle;\n",
       "    }\n",
       "\n",
       "    .dataframe tbody tr th {\n",
       "        vertical-align: top;\n",
       "    }\n",
       "\n",
       "    .dataframe thead th {\n",
       "        text-align: right;\n",
       "    }\n",
       "</style>\n",
       "<table border=\"1\" class=\"dataframe\">\n",
       "  <thead>\n",
       "    <tr style=\"text-align: right;\">\n",
       "      <th></th>\n",
       "      <th>Acct Bal</th>\n",
       "      <th>Share1</th>\n",
       "      <th>Share2</th>\n",
       "    </tr>\n",
       "    <tr>\n",
       "      <th>Date</th>\n",
       "      <th></th>\n",
       "      <th></th>\n",
       "      <th></th>\n",
       "    </tr>\n",
       "  </thead>\n",
       "  <tbody>\n",
       "    <tr>\n",
       "      <th>2017-01-01</th>\n",
       "      <td>5000</td>\n",
       "      <td>0</td>\n",
       "      <td>0</td>\n",
       "    </tr>\n",
       "    <tr>\n",
       "      <th>2017-02-01</th>\n",
       "      <td>6000</td>\n",
       "      <td>0</td>\n",
       "      <td>0</td>\n",
       "    </tr>\n",
       "    <tr>\n",
       "      <th>2017-03-01</th>\n",
       "      <td>5500</td>\n",
       "      <td>0</td>\n",
       "      <td>0</td>\n",
       "    </tr>\n",
       "    <tr>\n",
       "      <th>2017-04-01</th>\n",
       "      <td>5505</td>\n",
       "      <td>0</td>\n",
       "      <td>0</td>\n",
       "    </tr>\n",
       "    <tr>\n",
       "      <th>2017-05-01</th>\n",
       "      <td>3495</td>\n",
       "      <td>2000</td>\n",
       "      <td>0</td>\n",
       "    </tr>\n",
       "    <tr>\n",
       "      <th>2017-06-01</th>\n",
       "      <td>3495</td>\n",
       "      <td>2050</td>\n",
       "      <td>0</td>\n",
       "    </tr>\n",
       "    <tr>\n",
       "      <th>2017-07-01</th>\n",
       "      <td>3495</td>\n",
       "      <td>2050</td>\n",
       "      <td>0</td>\n",
       "    </tr>\n",
       "    <tr>\n",
       "      <th>2017-07-01</th>\n",
       "      <td>2485</td>\n",
       "      <td>2050</td>\n",
       "      <td>1000</td>\n",
       "    </tr>\n",
       "    <tr>\n",
       "      <th>2017-08-01</th>\n",
       "      <td>2485</td>\n",
       "      <td>2040</td>\n",
       "      <td>1020</td>\n",
       "    </tr>\n",
       "    <tr>\n",
       "      <th>2017-09-01</th>\n",
       "      <td>2685</td>\n",
       "      <td>2040</td>\n",
       "      <td>1020</td>\n",
       "    </tr>\n",
       "    <tr>\n",
       "      <th>2017-10-01</th>\n",
       "      <td>2685</td>\n",
       "      <td>2070</td>\n",
       "      <td>1050</td>\n",
       "    </tr>\n",
       "    <tr>\n",
       "      <th>2017-10-01</th>\n",
       "      <td>4750</td>\n",
       "      <td>0</td>\n",
       "      <td>1050</td>\n",
       "    </tr>\n",
       "    <tr>\n",
       "      <th>2017-11-01</th>\n",
       "      <td>4750</td>\n",
       "      <td>0</td>\n",
       "      <td>1080</td>\n",
       "    </tr>\n",
       "  </tbody>\n",
       "</table>\n",
       "</div>"
      ],
      "text/plain": [
       "            Acct Bal  Share1  Share2\n",
       "Date                                \n",
       "2017-01-01      5000       0       0\n",
       "2017-02-01      6000       0       0\n",
       "2017-03-01      5500       0       0\n",
       "2017-04-01      5505       0       0\n",
       "2017-05-01      3495    2000       0\n",
       "2017-06-01      3495    2050       0\n",
       "2017-07-01      3495    2050       0\n",
       "2017-07-01      2485    2050    1000\n",
       "2017-08-01      2485    2040    1020\n",
       "2017-09-01      2685    2040    1020\n",
       "2017-10-01      2685    2070    1050\n",
       "2017-10-01      4750       0    1050\n",
       "2017-11-01      4750       0    1080"
      ]
     },
     "execution_count": 17,
     "metadata": {},
     "output_type": "execute_result"
    }
   ],
   "source": [
    "df = shr_values(all_shares=True)\n",
    "df"
   ]
  },
  {
   "cell_type": "markdown",
   "metadata": {},
   "source": [
    "Use <code>rel_values()</code> to produce a dataframe showing the relative share values. Note that the data was reindexed over time, so that it can be plotted."
   ]
  },
  {
   "cell_type": "code",
   "execution_count": 18,
   "metadata": {
    "ExecuteTime": {
     "end_time": "2019-02-17T15:04:23.645657Z",
     "start_time": "2019-02-17T15:04:20.985601Z"
    }
   },
   "outputs": [
    {
     "data": {
      "text/plain": [
       "<matplotlib.axes._subplots.AxesSubplot at 0x7f786fc4cb70>"
      ]
     },
     "execution_count": 18,
     "metadata": {},
     "output_type": "execute_result"
    }
   ],
   "source": [
    "df.plot()"
   ]
  },
  {
   "cell_type": "markdown",
   "metadata": {},
   "source": [
    "The three different display methods <code>all_values(), rel_values(), shr_values()</code> have different default formats, but this can be overwritten with keyword arguments, e.g. <code>shr_values(comments=True, date_as_index=False)</code>. Cf. the docstrings, e.g.:"
   ]
  },
  {
   "cell_type": "code",
   "execution_count": 19,
   "metadata": {
    "ExecuteTime": {
     "end_time": "2019-02-17T15:04:23.653379Z",
     "start_time": "2019-02-17T15:04:23.648351Z"
    }
   },
   "outputs": [
    {
     "name": "stdout",
     "output_type": "stream",
     "text": [
      "Return dataframe with shares values as floats.\n",
      "\n",
      "    Keyword arguments:\n",
      "    all_shares -- display all shares instead of\n",
      "                                    active ones only (default False)\n",
      "    comments -- display comments (default False)\n",
      "    acct_bal -- display account balance (default True)\n",
      "    date_as_string -- write dates as strings (default False)\n",
      "    date_as_index -- set dates as index (default True)\n",
      "    \n"
     ]
    }
   ],
   "source": [
    "print(shr_values.__doc__)"
   ]
  },
  {
   "cell_type": "markdown",
   "metadata": {},
   "source": [
    "## Other Methods on the Dataframe"
   ]
  },
  {
   "cell_type": "markdown",
   "metadata": {},
   "source": [
    "List the shares in the portfolio using <code>active_shares()</code> or <code>all_shares()</code>. The methods <code>delete_last_row()</code> and <code>backup()</code> have already been discussed. Lastly, the total value of the portfolio:"
   ]
  },
  {
   "cell_type": "code",
   "execution_count": 20,
   "metadata": {
    "ExecuteTime": {
     "end_time": "2019-02-17T15:04:23.820944Z",
     "start_time": "2019-02-17T15:04:23.655654Z"
    }
   },
   "outputs": [
    {
     "data": {
      "text/html": [
       "<div>\n",
       "<style scoped>\n",
       "    .dataframe tbody tr th:only-of-type {\n",
       "        vertical-align: middle;\n",
       "    }\n",
       "\n",
       "    .dataframe tbody tr th {\n",
       "        vertical-align: top;\n",
       "    }\n",
       "\n",
       "    .dataframe thead th {\n",
       "        text-align: right;\n",
       "    }\n",
       "</style>\n",
       "<table border=\"1\" class=\"dataframe\">\n",
       "  <thead>\n",
       "    <tr style=\"text-align: right;\">\n",
       "      <th></th>\n",
       "      <th>Total Value</th>\n",
       "    </tr>\n",
       "    <tr>\n",
       "      <th>Date</th>\n",
       "      <th></th>\n",
       "    </tr>\n",
       "  </thead>\n",
       "  <tbody>\n",
       "    <tr>\n",
       "      <th>2017-01-01</th>\n",
       "      <td>5000</td>\n",
       "    </tr>\n",
       "    <tr>\n",
       "      <th>2017-02-01</th>\n",
       "      <td>6000</td>\n",
       "    </tr>\n",
       "    <tr>\n",
       "      <th>2017-03-01</th>\n",
       "      <td>5500</td>\n",
       "    </tr>\n",
       "    <tr>\n",
       "      <th>2017-04-01</th>\n",
       "      <td>5505</td>\n",
       "    </tr>\n",
       "    <tr>\n",
       "      <th>2017-05-01</th>\n",
       "      <td>5480</td>\n",
       "    </tr>\n",
       "    <tr>\n",
       "      <th>2017-06-01</th>\n",
       "      <td>5530</td>\n",
       "    </tr>\n",
       "    <tr>\n",
       "      <th>2017-07-01</th>\n",
       "      <td>5530</td>\n",
       "    </tr>\n",
       "    <tr>\n",
       "      <th>2017-07-01</th>\n",
       "      <td>5505</td>\n",
       "    </tr>\n",
       "    <tr>\n",
       "      <th>2017-08-01</th>\n",
       "      <td>5515</td>\n",
       "    </tr>\n",
       "    <tr>\n",
       "      <th>2017-09-01</th>\n",
       "      <td>5715</td>\n",
       "    </tr>\n",
       "    <tr>\n",
       "      <th>2017-10-01</th>\n",
       "      <td>5775</td>\n",
       "    </tr>\n",
       "    <tr>\n",
       "      <th>2017-10-01</th>\n",
       "      <td>5785</td>\n",
       "    </tr>\n",
       "    <tr>\n",
       "      <th>2017-11-01</th>\n",
       "      <td>5815</td>\n",
       "    </tr>\n",
       "  </tbody>\n",
       "</table>\n",
       "</div>"
      ],
      "text/plain": [
       "            Total Value\n",
       "Date                   \n",
       "2017-01-01         5000\n",
       "2017-02-01         6000\n",
       "2017-03-01         5500\n",
       "2017-04-01         5505\n",
       "2017-05-01         5480\n",
       "2017-06-01         5530\n",
       "2017-07-01         5530\n",
       "2017-07-01         5505\n",
       "2017-08-01         5515\n",
       "2017-09-01         5715\n",
       "2017-10-01         5775\n",
       "2017-10-01         5785\n",
       "2017-11-01         5815"
      ]
     },
     "execution_count": 20,
     "metadata": {},
     "output_type": "execute_result"
    }
   ],
   "source": [
    "total_value()"
   ]
  },
  {
   "cell_type": "markdown",
   "metadata": {},
   "source": [
    "## Investment tools"
   ]
  },
  {
   "cell_type": "markdown",
   "metadata": {},
   "source": [
    "Suppose we are considering to buy a certain bond with a coupon (yield) of 4.3% and 15 years to maturity. Then we can use the following function to get an overview of bond prices and the corresponding overall return."
   ]
  },
  {
   "cell_type": "code",
   "execution_count": 21,
   "metadata": {
    "ExecuteTime": {
     "end_time": "2019-02-17T15:04:23.964419Z",
     "start_time": "2019-02-17T15:04:23.824636Z"
    }
   },
   "outputs": [
    {
     "data": {
      "text/html": [
       "<div>\n",
       "<style scoped>\n",
       "    .dataframe tbody tr th:only-of-type {\n",
       "        vertical-align: middle;\n",
       "    }\n",
       "\n",
       "    .dataframe tbody tr th {\n",
       "        vertical-align: top;\n",
       "    }\n",
       "\n",
       "    .dataframe thead th {\n",
       "        text-align: right;\n",
       "    }\n",
       "</style>\n",
       "<table border=\"1\" class=\"dataframe\">\n",
       "  <thead>\n",
       "    <tr style=\"text-align: right;\">\n",
       "      <th></th>\n",
       "      <th>Price</th>\n",
       "    </tr>\n",
       "    <tr>\n",
       "      <th>Return (%)</th>\n",
       "      <th></th>\n",
       "    </tr>\n",
       "  </thead>\n",
       "  <tbody>\n",
       "    <tr>\n",
       "      <th>-1.0</th>\n",
       "      <td>186.237255</td>\n",
       "    </tr>\n",
       "    <tr>\n",
       "      <th>-0.5</th>\n",
       "      <td>174.963471</td>\n",
       "    </tr>\n",
       "    <tr>\n",
       "      <th>0.0</th>\n",
       "      <td>164.500000</td>\n",
       "    </tr>\n",
       "    <tr>\n",
       "      <th>0.5</th>\n",
       "      <td>154.783174</td>\n",
       "    </tr>\n",
       "    <tr>\n",
       "      <th>1.0</th>\n",
       "      <td>145.754673</td>\n",
       "    </tr>\n",
       "    <tr>\n",
       "      <th>1.5</th>\n",
       "      <td>137.361052</td>\n",
       "    </tr>\n",
       "    <tr>\n",
       "      <th>2.0</th>\n",
       "      <td>129.553306</td>\n",
       "    </tr>\n",
       "    <tr>\n",
       "      <th>2.5</th>\n",
       "      <td>122.286480</td>\n",
       "    </tr>\n",
       "    <tr>\n",
       "      <th>3.0</th>\n",
       "      <td>115.519316</td>\n",
       "    </tr>\n",
       "    <tr>\n",
       "      <th>3.5</th>\n",
       "      <td>109.213929</td>\n",
       "    </tr>\n",
       "    <tr>\n",
       "      <th>4.0</th>\n",
       "      <td>103.335516</td>\n",
       "    </tr>\n",
       "    <tr>\n",
       "      <th>4.5</th>\n",
       "      <td>97.852091</td>\n",
       "    </tr>\n",
       "    <tr>\n",
       "      <th>5.0</th>\n",
       "      <td>92.734239</td>\n",
       "    </tr>\n",
       "    <tr>\n",
       "      <th>5.5</th>\n",
       "      <td>87.954903</td>\n",
       "    </tr>\n",
       "    <tr>\n",
       "      <th>6.0</th>\n",
       "      <td>83.489177</td>\n",
       "    </tr>\n",
       "    <tr>\n",
       "      <th>6.5</th>\n",
       "      <td>79.314129</td>\n",
       "    </tr>\n",
       "    <tr>\n",
       "      <th>7.0</th>\n",
       "      <td>75.408632</td>\n",
       "    </tr>\n",
       "    <tr>\n",
       "      <th>7.5</th>\n",
       "      <td>71.753217</td>\n",
       "    </tr>\n",
       "    <tr>\n",
       "      <th>8.0</th>\n",
       "      <td>68.329929</td>\n",
       "    </tr>\n",
       "    <tr>\n",
       "      <th>8.5</th>\n",
       "      <td>65.122206</td>\n",
       "    </tr>\n",
       "    <tr>\n",
       "      <th>9.0</th>\n",
       "      <td>62.114764</td>\n",
       "    </tr>\n",
       "    <tr>\n",
       "      <th>9.5</th>\n",
       "      <td>59.293490</td>\n",
       "    </tr>\n",
       "  </tbody>\n",
       "</table>\n",
       "</div>"
      ],
      "text/plain": [
       "                 Price\n",
       "Return (%)            \n",
       "-1.0        186.237255\n",
       "-0.5        174.963471\n",
       " 0.0        164.500000\n",
       " 0.5        154.783174\n",
       " 1.0        145.754673\n",
       " 1.5        137.361052\n",
       " 2.0        129.553306\n",
       " 2.5        122.286480\n",
       " 3.0        115.519316\n",
       " 3.5        109.213929\n",
       " 4.0        103.335516\n",
       " 4.5         97.852091\n",
       " 5.0         92.734239\n",
       " 5.5         87.954903\n",
       " 6.0         83.489177\n",
       " 6.5         79.314129\n",
       " 7.0         75.408632\n",
       " 7.5         71.753217\n",
       " 8.0         68.329929\n",
       " 8.5         65.122206\n",
       " 9.0         62.114764\n",
       " 9.5         59.293490"
      ]
     },
     "execution_count": 21,
     "metadata": {},
     "output_type": "execute_result"
    }
   ],
   "source": [
    "bond_evaluation(4.3, 15)"
   ]
  },
  {
   "cell_type": "markdown",
   "metadata": {},
   "source": [
    "This means that, if we want a return of at least 5%, we should not pay more than 92.73. This is an unrelated functionality -- the following methods are more geared towards the main features of the package described above.\n",
    "\n",
    "The following methods help gauge the significance of relative values p -- this helps to plan ahead and also to decide whether to hold or to sell a share. For example, if a share with very low volatility has a p-value double its average historical rate of return, then this is a exceptional event, and we should sell before the share price reverts to the mean. For more volatile shares, such a p-value is not as significant and we may consider holding.\n",
    "\n",
    "To do this, download weekly closing prices and save it in the working directory as <code>data.csv</code>. Then run the following to find the average weekly growth and its standard deviation from that mean (alternatively, a list of weekly closing prices can be passed)."
   ]
  },
  {
   "cell_type": "code",
   "execution_count": 22,
   "metadata": {
    "ExecuteTime": {
     "end_time": "2019-02-17T15:04:24.344486Z",
     "start_time": "2019-02-17T15:04:23.967193Z"
    }
   },
   "outputs": [
    {
     "data": {
      "text/plain": [
       "[0.003671379220282967, 0.03903976147063121]"
      ]
     },
     "execution_count": 22,
     "metadata": {},
     "output_type": "execute_result"
    }
   ],
   "source": [
    "parameters = find_mu_sigma()\n",
    "parameters"
   ]
  },
  {
   "cell_type": "markdown",
   "metadata": {},
   "source": [
    "Next, we use this data for a Monte-Carlo simulation of shares with those parameter. This produces a distribution of maximum achieved relative rates."
   ]
  },
  {
   "cell_type": "code",
   "execution_count": 23,
   "metadata": {
    "ExecuteTime": {
     "end_time": "2019-02-17T15:04:25.154809Z",
     "start_time": "2019-02-17T15:04:24.346879Z"
    }
   },
   "outputs": [
    {
     "data": {
      "text/html": [
       "<div>\n",
       "<style scoped>\n",
       "    .dataframe tbody tr th:only-of-type {\n",
       "        vertical-align: middle;\n",
       "    }\n",
       "\n",
       "    .dataframe tbody tr th {\n",
       "        vertical-align: top;\n",
       "    }\n",
       "\n",
       "    .dataframe thead th {\n",
       "        text-align: right;\n",
       "    }\n",
       "</style>\n",
       "<table border=\"1\" class=\"dataframe\">\n",
       "  <thead>\n",
       "    <tr style=\"text-align: right;\">\n",
       "      <th></th>\n",
       "      <th>Date</th>\n",
       "      <th>Sharename</th>\n",
       "      <th>p_max</th>\n",
       "      <th>p_90</th>\n",
       "      <th>p_80</th>\n",
       "      <th>p_70</th>\n",
       "      <th>p_60</th>\n",
       "      <th>p_50</th>\n",
       "      <th>p_40</th>\n",
       "      <th>p_30</th>\n",
       "      <th>p_20</th>\n",
       "      <th>p_10</th>\n",
       "      <th>p_min</th>\n",
       "    </tr>\n",
       "  </thead>\n",
       "  <tbody>\n",
       "    <tr>\n",
       "      <th>0</th>\n",
       "      <td>19-02-17</td>\n",
       "      <td></td>\n",
       "      <td>2.7563</td>\n",
       "      <td>1.1655</td>\n",
       "      <td>0.9398</td>\n",
       "      <td>0.7886</td>\n",
       "      <td>0.6693</td>\n",
       "      <td>0.5502</td>\n",
       "      <td>0.4448</td>\n",
       "      <td>0.3340</td>\n",
       "      <td>0.2136</td>\n",
       "      <td>0.0606</td>\n",
       "      <td>-0.7190</td>\n",
       "    </tr>\n",
       "    <tr>\n",
       "      <th>1</th>\n",
       "      <td></td>\n",
       "      <td></td>\n",
       "      <td>12</td>\n",
       "      <td>14</td>\n",
       "      <td>12</td>\n",
       "      <td>18</td>\n",
       "      <td>24</td>\n",
       "      <td>44</td>\n",
       "      <td>21</td>\n",
       "      <td>52</td>\n",
       "      <td>37</td>\n",
       "      <td>52</td>\n",
       "      <td>24</td>\n",
       "    </tr>\n",
       "  </tbody>\n",
       "</table>\n",
       "</div>"
      ],
      "text/plain": [
       "       Date Sharename   p_max    p_90    p_80    p_70    p_60    p_50    p_40  \\\n",
       "0  19-02-17            2.7563  1.1655  0.9398  0.7886  0.6693  0.5502  0.4448   \n",
       "1                          12      14      12      18      24      44      21   \n",
       "\n",
       "     p_30    p_20    p_10    p_min  \n",
       "0  0.3340  0.2136  0.0606  -0.7190  \n",
       "1      52      37      52       24  "
      ]
     },
     "execution_count": 23,
     "metadata": {},
     "output_type": "execute_result"
    }
   ],
   "source": [
    "simulate_p(parameters[0], parameters[1])"
   ]
  },
  {
   "cell_type": "markdown",
   "metadata": {},
   "source": [
    "The numbers in the second row state the weeks in which those p-values were achieved (only p values between certain weeks are considered, cf. the docstring for <code>simulate_p()</code>).\n",
    "\n",
    "Let's check that a lower volatility gives a more concentrated distribution of p-values."
   ]
  },
  {
   "cell_type": "code",
   "execution_count": 24,
   "metadata": {
    "ExecuteTime": {
     "end_time": "2019-02-17T15:04:26.224598Z",
     "start_time": "2019-02-17T15:04:25.158278Z"
    }
   },
   "outputs": [
    {
     "data": {
      "text/html": [
       "<div>\n",
       "<style scoped>\n",
       "    .dataframe tbody tr th:only-of-type {\n",
       "        vertical-align: middle;\n",
       "    }\n",
       "\n",
       "    .dataframe tbody tr th {\n",
       "        vertical-align: top;\n",
       "    }\n",
       "\n",
       "    .dataframe thead th {\n",
       "        text-align: right;\n",
       "    }\n",
       "</style>\n",
       "<table border=\"1\" class=\"dataframe\">\n",
       "  <thead>\n",
       "    <tr style=\"text-align: right;\">\n",
       "      <th></th>\n",
       "      <th>Date</th>\n",
       "      <th>Sharename</th>\n",
       "      <th>p_max</th>\n",
       "      <th>p_90</th>\n",
       "      <th>p_80</th>\n",
       "      <th>p_70</th>\n",
       "      <th>p_60</th>\n",
       "      <th>p_50</th>\n",
       "      <th>p_40</th>\n",
       "      <th>p_30</th>\n",
       "      <th>p_20</th>\n",
       "      <th>p_10</th>\n",
       "      <th>p_min</th>\n",
       "    </tr>\n",
       "  </thead>\n",
       "  <tbody>\n",
       "    <tr>\n",
       "      <th>0</th>\n",
       "      <td>19-02-17</td>\n",
       "      <td>demoshare</td>\n",
       "      <td>0.2106</td>\n",
       "      <td>0.2091</td>\n",
       "      <td>0.2088</td>\n",
       "      <td>0.2086</td>\n",
       "      <td>0.2084</td>\n",
       "      <td>0.2083</td>\n",
       "      <td>0.2081</td>\n",
       "      <td>0.2080</td>\n",
       "      <td>0.2077</td>\n",
       "      <td>0.2075</td>\n",
       "      <td>0.2060</td>\n",
       "    </tr>\n",
       "    <tr>\n",
       "      <th>1</th>\n",
       "      <td></td>\n",
       "      <td></td>\n",
       "      <td>12</td>\n",
       "      <td>12</td>\n",
       "      <td>12</td>\n",
       "      <td>12</td>\n",
       "      <td>12</td>\n",
       "      <td>12</td>\n",
       "      <td>12</td>\n",
       "      <td>12</td>\n",
       "      <td>12</td>\n",
       "      <td>12</td>\n",
       "      <td>12</td>\n",
       "    </tr>\n",
       "  </tbody>\n",
       "</table>\n",
       "</div>"
      ],
      "text/plain": [
       "       Date  Sharename   p_max    p_90    p_80    p_70    p_60    p_50  \\\n",
       "0  19-02-17  demoshare  0.2106  0.2091  0.2088  0.2086  0.2084  0.2083   \n",
       "1                           12      12      12      12      12      12   \n",
       "\n",
       "     p_40    p_30    p_20    p_10   p_min  \n",
       "0  0.2081  0.2080  0.2077  0.2075  0.2060  \n",
       "1      12      12      12      12      12  "
      ]
     },
     "execution_count": 24,
     "metadata": {},
     "output_type": "execute_result"
    }
   ],
   "source": [
    "simulate_p(parameters[0], 0.001*parameters[1], name='demoshare')"
   ]
  },
  {
   "cell_type": "markdown",
   "metadata": {},
   "source": [
    "This time, the name of the share was given as an keyword argument. In this case, the above data is written in a spreadsheet in the working directory. One can later consult this spreadsheet when making decisions.\n",
    "\n",
    "Lastly, as a sanity check, let us make sure that the median p found in the low-volatility simulation really corresponds to the average weekly rate found above:"
   ]
  },
  {
   "cell_type": "code",
   "execution_count": 25,
   "metadata": {
    "ExecuteTime": {
     "end_time": "2019-02-17T15:04:26.233705Z",
     "start_time": "2019-02-17T15:04:26.227322Z"
    }
   },
   "outputs": [
    {
     "data": {
      "text/plain": [
       "1.0044483260979653"
      ]
     },
     "execution_count": 25,
     "metadata": {},
     "output_type": "execute_result"
    }
   ],
   "source": [
    "p_med = 0.2308 # = p_50 in the previous table\n",
    "               # change if you were running this on different data\n",
    "               # should approximately give parameters[0]\n",
    "math.exp(p_med)**(float(1)/52)"
   ]
  },
  {
   "cell_type": "markdown",
   "metadata": {},
   "source": [
    "## Web Scraping Functionalities"
   ]
  },
  {
   "cell_type": "markdown",
   "metadata": {},
   "source": [
    "Suppose there are stocks we'd like to buy, but they are currently overpriced. We can keep a list of stocks, <code>watchlist.txt</code>, with the Yahoo Finance handles and the stock prices at which we would buy. Calling the following function will check the watchlist (this is a separate script, so, it can be run from outside the whole ta package). This is very helpful once that list gets very long."
   ]
  },
  {
   "cell_type": "code",
   "execution_count": 26,
   "metadata": {
    "ExecuteTime": {
     "end_time": "2019-02-17T15:04:30.349654Z",
     "start_time": "2019-02-17T15:04:26.236241Z"
    }
   },
   "outputs": [
    {
     "name": "stdout",
     "output_type": "stream",
     "text": [
      "\n",
      "ALERT!!!\n",
      "KO is currently 45.240 < 100.000.\n",
      "\n"
     ]
    }
   ],
   "source": [
    "check_watchlist()"
   ]
  },
  {
   "cell_type": "markdown",
   "metadata": {},
   "source": [
    "Next, we use the same type of scraping to produce the list of arguments that is fed into the method <code>update()</code> -- this will save a lot of time, especially if the portfolio is big. For this, a text file with the name <code>'demo_dict.txt'</code> needs to be kept in the working directory (replace  <code>'demo'</code> with the name of the account). Each line of that file contains the name of the stock in the TA logbook (here, <code>'Share1'</code> and <code>'Share2'</code>), the Yahoo Finance handle, and the number of stock (shares/bonds/certificates). In a later version of this software package, the YF handle and number of stock should be included in the objects that keep the data, so that this separate dictionary file becomes unnecessary. Well, for now we go via the dictionaries -- here is how it works."
   ]
  },
  {
   "cell_type": "code",
   "execution_count": 27,
   "metadata": {
    "ExecuteTime": {
     "end_time": "2019-02-17T15:04:31.982281Z",
     "start_time": "2019-02-17T15:04:30.354091Z"
    }
   },
   "outputs": [
    {
     "name": "stdout",
     "output_type": "stream",
     "text": [
      "{'Share1': 1787.5, 'Share2': 904.8000000000001}\n"
     ]
    }
   ],
   "source": [
    "ud = get_update_dict()\n",
    "print(ud)"
   ]
  },
  {
   "cell_type": "markdown",
   "metadata": {},
   "source": [
    "This can now be fed into the methods <code>update()</code>:"
   ]
  },
  {
   "cell_type": "code",
   "execution_count": 28,
   "metadata": {
    "ExecuteTime": {
     "end_time": "2019-02-17T15:04:32.061321Z",
     "start_time": "2019-02-17T15:04:31.985873Z"
    }
   },
   "outputs": [
    {
     "data": {
      "text/html": [
       "<div>\n",
       "<style scoped>\n",
       "    .dataframe tbody tr th:only-of-type {\n",
       "        vertical-align: middle;\n",
       "    }\n",
       "\n",
       "    .dataframe tbody tr th {\n",
       "        vertical-align: top;\n",
       "    }\n",
       "\n",
       "    .dataframe thead th {\n",
       "        text-align: right;\n",
       "    }\n",
       "</style>\n",
       "<table border=\"1\" class=\"dataframe\">\n",
       "  <thead>\n",
       "    <tr style=\"text-align: right;\">\n",
       "      <th></th>\n",
       "      <th>Acct Bal</th>\n",
       "      <th>Share1</th>\n",
       "      <th>Share2</th>\n",
       "    </tr>\n",
       "    <tr>\n",
       "      <th>Date</th>\n",
       "      <th></th>\n",
       "      <th></th>\n",
       "      <th></th>\n",
       "    </tr>\n",
       "  </thead>\n",
       "  <tbody>\n",
       "    <tr>\n",
       "      <th>2017-01-01 00:00:00.000000</th>\n",
       "      <td>5000</td>\n",
       "      <td>0</td>\n",
       "      <td>0</td>\n",
       "    </tr>\n",
       "    <tr>\n",
       "      <th>2017-02-01 00:00:00.000000</th>\n",
       "      <td>6000</td>\n",
       "      <td>0</td>\n",
       "      <td>0</td>\n",
       "    </tr>\n",
       "    <tr>\n",
       "      <th>2017-03-01 00:00:00.000000</th>\n",
       "      <td>5500</td>\n",
       "      <td>0</td>\n",
       "      <td>0</td>\n",
       "    </tr>\n",
       "    <tr>\n",
       "      <th>2017-04-01 00:00:00.000000</th>\n",
       "      <td>5505</td>\n",
       "      <td>0</td>\n",
       "      <td>0</td>\n",
       "    </tr>\n",
       "    <tr>\n",
       "      <th>2017-05-01 00:00:00.000000</th>\n",
       "      <td>3495</td>\n",
       "      <td>2000</td>\n",
       "      <td>0</td>\n",
       "    </tr>\n",
       "    <tr>\n",
       "      <th>2017-06-01 00:00:00.000000</th>\n",
       "      <td>3495</td>\n",
       "      <td>2050</td>\n",
       "      <td>0</td>\n",
       "    </tr>\n",
       "    <tr>\n",
       "      <th>2017-07-01 00:00:00.000000</th>\n",
       "      <td>3495</td>\n",
       "      <td>2050</td>\n",
       "      <td>0</td>\n",
       "    </tr>\n",
       "    <tr>\n",
       "      <th>2017-07-01 00:00:00.000000</th>\n",
       "      <td>2485</td>\n",
       "      <td>2050</td>\n",
       "      <td>1000</td>\n",
       "    </tr>\n",
       "    <tr>\n",
       "      <th>2017-08-01 00:00:00.000000</th>\n",
       "      <td>2485</td>\n",
       "      <td>2040</td>\n",
       "      <td>1020</td>\n",
       "    </tr>\n",
       "    <tr>\n",
       "      <th>2017-09-01 00:00:00.000000</th>\n",
       "      <td>2685</td>\n",
       "      <td>2040</td>\n",
       "      <td>1020</td>\n",
       "    </tr>\n",
       "    <tr>\n",
       "      <th>2017-10-01 00:00:00.000000</th>\n",
       "      <td>2685</td>\n",
       "      <td>2070</td>\n",
       "      <td>1050</td>\n",
       "    </tr>\n",
       "    <tr>\n",
       "      <th>2017-10-01 00:00:00.000000</th>\n",
       "      <td>4750</td>\n",
       "      <td>0</td>\n",
       "      <td>1050</td>\n",
       "    </tr>\n",
       "    <tr>\n",
       "      <th>2017-11-01 00:00:00.000000</th>\n",
       "      <td>4750</td>\n",
       "      <td>0</td>\n",
       "      <td>1080</td>\n",
       "    </tr>\n",
       "    <tr>\n",
       "      <th>2019-02-17 15:04:31.988045</th>\n",
       "      <td>4750</td>\n",
       "      <td>0</td>\n",
       "      <td>904.8</td>\n",
       "    </tr>\n",
       "  </tbody>\n",
       "</table>\n",
       "</div>"
      ],
      "text/plain": [
       "                            Acct Bal  Share1 Share2\n",
       "Date                                               \n",
       "2017-01-01 00:00:00.000000      5000       0      0\n",
       "2017-02-01 00:00:00.000000      6000       0      0\n",
       "2017-03-01 00:00:00.000000      5500       0      0\n",
       "2017-04-01 00:00:00.000000      5505       0      0\n",
       "2017-05-01 00:00:00.000000      3495    2000      0\n",
       "2017-06-01 00:00:00.000000      3495    2050      0\n",
       "2017-07-01 00:00:00.000000      3495    2050      0\n",
       "2017-07-01 00:00:00.000000      2485    2050   1000\n",
       "2017-08-01 00:00:00.000000      2485    2040   1020\n",
       "2017-09-01 00:00:00.000000      2685    2040   1020\n",
       "2017-10-01 00:00:00.000000      2685    2070   1050\n",
       "2017-10-01 00:00:00.000000      4750       0   1050\n",
       "2017-11-01 00:00:00.000000      4750       0   1080\n",
       "2019-02-17 15:04:31.988045      4750       0  904.8"
      ]
     },
     "execution_count": 28,
     "metadata": {},
     "output_type": "execute_result"
    }
   ],
   "source": [
    "update(**ud)\n",
    "df = shr_values(all_shares=True)\n",
    "df"
   ]
  },
  {
   "cell_type": "markdown",
   "metadata": {},
   "source": [
    "Note how the first share was not updated -- that's because it is not active anymore. Hence the stock dictionary does not need to be updated -- well, only if new stocks are purchased. If a an inactive share is re-purchased, it needs to be given a new name (this is not only required for the steps surrounding the web scraping functionality, but also for other parts of the package; this is intentional, i.e. not a bug). One case use the method <code>auto_update()</code> to combine these two steps (scrape the value of the portfolio and update it)."
   ]
  },
  {
   "cell_type": "markdown",
   "metadata": {},
   "source": [
    "## Getting Started"
   ]
  },
  {
   "cell_type": "markdown",
   "metadata": {},
   "source": [
    "Now that you know how everything works, just run\n",
    "\n",
    "<code>account_name('your_account_name')</code>\n",
    "\n",
    "and start managing your account! This can be done in another notebook (e.g. <code>ta_work</code>) or from the python command line -- just execute <code>ta_master.py</code> first to load everything."
   ]
  },
  {
   "cell_type": "markdown",
   "metadata": {},
   "source": [
    "## To-Do"
   ]
  },
  {
   "cell_type": "markdown",
   "metadata": {},
   "source": [
    "Other functionalities that could be implemented: use scraped data for finding the significance levels and for the fundamental analysis; include Yahoo Finance handle and number of stock in the share value objects (so that the stock dictionary is not needed anymore); for fitting stock data to obtain parameters for the Monte Carlo simulation, use MLE with normal inverse Gaussian distribution rather than normal distributions.\n",
    "\n",
    "Please email me with any questions, concerns, bugs, suggestions."
   ]
  },
  {
   "cell_type": "code",
   "execution_count": null,
   "metadata": {},
   "outputs": [],
   "source": []
  }
 ],
 "metadata": {
  "kernelspec": {
   "display_name": "Python 3",
   "language": "python",
   "name": "python3"
  },
  "language_info": {
   "codemirror_mode": {
    "name": "ipython",
    "version": 3
   },
   "file_extension": ".py",
   "mimetype": "text/x-python",
   "name": "python",
   "nbconvert_exporter": "python",
   "pygments_lexer": "ipython3",
   "version": "3.6.4"
  },
  "varInspector": {
   "cols": {
    "lenName": 16,
    "lenType": 16,
    "lenVar": 40
   },
   "kernels_config": {
    "python": {
     "delete_cmd_postfix": "",
     "delete_cmd_prefix": "del ",
     "library": "var_list.py",
     "varRefreshCmd": "print(var_dic_list())"
    },
    "r": {
     "delete_cmd_postfix": ") ",
     "delete_cmd_prefix": "rm(",
     "library": "var_list.r",
     "varRefreshCmd": "cat(var_dic_list()) "
    }
   },
   "types_to_exclude": [
    "module",
    "function",
    "builtin_function_or_method",
    "instance",
    "_Feature"
   ],
   "window_display": false
  }
 },
 "nbformat": 4,
 "nbformat_minor": 2
}
